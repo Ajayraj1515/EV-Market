{
 "cells": [
  {
   "cell_type": "code",
   "execution_count": 2,
   "metadata": {
    "_cell_guid": "b1076dfc-b9ad-4769-8c92-a6c4dae69d19",
    "_uuid": "8f2839f25d086af736a60e9eeb907d3b93b6e0e5",
    "execution": {
     "iopub.execute_input": "2022-08-01T15:16:23.955635Z",
     "iopub.status.busy": "2022-08-01T15:16:23.955058Z",
     "iopub.status.idle": "2022-08-01T15:16:23.961684Z",
     "shell.execute_reply": "2022-08-01T15:16:23.960538Z",
     "shell.execute_reply.started": "2022-08-01T15:16:23.955582Z"
    }
   },
   "outputs": [],
   "source": [
    "import pandas as pd\n",
    "import numpy as np\n",
    "import matplotlib.pyplot as plt\n",
    "import seaborn as sns"
   ]
  },
  {
   "cell_type": "code",
   "execution_count": 4,
   "metadata": {
    "execution": {
     "iopub.execute_input": "2022-08-01T15:17:08.451202Z",
     "iopub.status.busy": "2022-08-01T15:17:08.450772Z",
     "iopub.status.idle": "2022-08-01T15:17:08.461579Z",
     "shell.execute_reply": "2022-08-01T15:17:08.460651Z",
     "shell.execute_reply.started": "2022-08-01T15:17:08.451170Z"
    }
   },
   "outputs": [],
   "source": [
    "df = pd.read_csv(\"../Downloads/Ajayraj/ElectricCarData_Norm.csv\")"
   ]
  },
  {
   "cell_type": "code",
   "execution_count": 5,
   "metadata": {
    "execution": {
     "iopub.execute_input": "2022-08-01T15:17:17.659333Z",
     "iopub.status.busy": "2022-08-01T15:17:17.658929Z",
     "iopub.status.idle": "2022-08-01T15:17:17.694724Z",
     "shell.execute_reply": "2022-08-01T15:17:17.693563Z",
     "shell.execute_reply.started": "2022-08-01T15:17:17.659301Z"
    }
   },
   "outputs": [
    {
     "data": {
      "text/html": [
       "<div>\n",
       "<style scoped>\n",
       "    .dataframe tbody tr th:only-of-type {\n",
       "        vertical-align: middle;\n",
       "    }\n",
       "\n",
       "    .dataframe tbody tr th {\n",
       "        vertical-align: top;\n",
       "    }\n",
       "\n",
       "    .dataframe thead th {\n",
       "        text-align: right;\n",
       "    }\n",
       "</style>\n",
       "<table border=\"1\" class=\"dataframe\">\n",
       "  <thead>\n",
       "    <tr style=\"text-align: right;\">\n",
       "      <th></th>\n",
       "      <th>Brand</th>\n",
       "      <th>Model</th>\n",
       "      <th>Accel</th>\n",
       "      <th>TopSpeed</th>\n",
       "      <th>Range</th>\n",
       "      <th>Efficiency</th>\n",
       "      <th>FastCharge</th>\n",
       "      <th>RapidCharge</th>\n",
       "      <th>PowerTrain</th>\n",
       "      <th>PlugType</th>\n",
       "      <th>BodyStyle</th>\n",
       "      <th>Segment</th>\n",
       "      <th>Seats</th>\n",
       "      <th>PriceEuro</th>\n",
       "    </tr>\n",
       "  </thead>\n",
       "  <tbody>\n",
       "    <tr>\n",
       "      <th>0</th>\n",
       "      <td>Tesla</td>\n",
       "      <td>Model 3 Long Range Dual Motor</td>\n",
       "      <td>4.6 sec</td>\n",
       "      <td>233 km/h</td>\n",
       "      <td>450 km</td>\n",
       "      <td>161 Wh/km</td>\n",
       "      <td>940 km/h</td>\n",
       "      <td>Rapid charging possible</td>\n",
       "      <td>All Wheel Drive</td>\n",
       "      <td>Type 2 CCS</td>\n",
       "      <td>Sedan</td>\n",
       "      <td>D</td>\n",
       "      <td>5</td>\n",
       "      <td>55480</td>\n",
       "    </tr>\n",
       "    <tr>\n",
       "      <th>1</th>\n",
       "      <td>Volkswagen</td>\n",
       "      <td>ID.3 Pure</td>\n",
       "      <td>10.0 sec</td>\n",
       "      <td>160 km/h</td>\n",
       "      <td>270 km</td>\n",
       "      <td>167 Wh/km</td>\n",
       "      <td>250 km/h</td>\n",
       "      <td>Rapid charging possible</td>\n",
       "      <td>Rear Wheel Drive</td>\n",
       "      <td>Type 2 CCS</td>\n",
       "      <td>Hatchback</td>\n",
       "      <td>C</td>\n",
       "      <td>5</td>\n",
       "      <td>30000</td>\n",
       "    </tr>\n",
       "    <tr>\n",
       "      <th>2</th>\n",
       "      <td>Polestar</td>\n",
       "      <td>2</td>\n",
       "      <td>4.7 sec</td>\n",
       "      <td>210 km/h</td>\n",
       "      <td>400 km</td>\n",
       "      <td>181 Wh/km</td>\n",
       "      <td>620 km/h</td>\n",
       "      <td>Rapid charging possible</td>\n",
       "      <td>All Wheel Drive</td>\n",
       "      <td>Type 2 CCS</td>\n",
       "      <td>Liftback</td>\n",
       "      <td>D</td>\n",
       "      <td>5</td>\n",
       "      <td>56440</td>\n",
       "    </tr>\n",
       "    <tr>\n",
       "      <th>3</th>\n",
       "      <td>BMW</td>\n",
       "      <td>iX3</td>\n",
       "      <td>6.8 sec</td>\n",
       "      <td>180 km/h</td>\n",
       "      <td>360 km</td>\n",
       "      <td>206 Wh/km</td>\n",
       "      <td>560 km/h</td>\n",
       "      <td>Rapid charging possible</td>\n",
       "      <td>Rear Wheel Drive</td>\n",
       "      <td>Type 2 CCS</td>\n",
       "      <td>SUV</td>\n",
       "      <td>D</td>\n",
       "      <td>5</td>\n",
       "      <td>68040</td>\n",
       "    </tr>\n",
       "    <tr>\n",
       "      <th>4</th>\n",
       "      <td>Honda</td>\n",
       "      <td>e</td>\n",
       "      <td>9.5 sec</td>\n",
       "      <td>145 km/h</td>\n",
       "      <td>170 km</td>\n",
       "      <td>168 Wh/km</td>\n",
       "      <td>190 km/h</td>\n",
       "      <td>Rapid charging possible</td>\n",
       "      <td>Rear Wheel Drive</td>\n",
       "      <td>Type 2 CCS</td>\n",
       "      <td>Hatchback</td>\n",
       "      <td>B</td>\n",
       "      <td>4</td>\n",
       "      <td>32997</td>\n",
       "    </tr>\n",
       "    <tr>\n",
       "      <th>...</th>\n",
       "      <td>...</td>\n",
       "      <td>...</td>\n",
       "      <td>...</td>\n",
       "      <td>...</td>\n",
       "      <td>...</td>\n",
       "      <td>...</td>\n",
       "      <td>...</td>\n",
       "      <td>...</td>\n",
       "      <td>...</td>\n",
       "      <td>...</td>\n",
       "      <td>...</td>\n",
       "      <td>...</td>\n",
       "      <td>...</td>\n",
       "      <td>...</td>\n",
       "    </tr>\n",
       "    <tr>\n",
       "      <th>98</th>\n",
       "      <td>Nissan</td>\n",
       "      <td>Ariya 63kWh</td>\n",
       "      <td>7.5 sec</td>\n",
       "      <td>160 km/h</td>\n",
       "      <td>330 km</td>\n",
       "      <td>191 Wh/km</td>\n",
       "      <td>440 km/h</td>\n",
       "      <td>Rapid charging possible</td>\n",
       "      <td>Front Wheel Drive</td>\n",
       "      <td>Type 2 CCS</td>\n",
       "      <td>Hatchback</td>\n",
       "      <td>C</td>\n",
       "      <td>5</td>\n",
       "      <td>45000</td>\n",
       "    </tr>\n",
       "    <tr>\n",
       "      <th>99</th>\n",
       "      <td>Audi</td>\n",
       "      <td>e-tron S Sportback 55 quattro</td>\n",
       "      <td>4.5 sec</td>\n",
       "      <td>210 km/h</td>\n",
       "      <td>335 km</td>\n",
       "      <td>258 Wh/km</td>\n",
       "      <td>540 km/h</td>\n",
       "      <td>Rapid charging possible</td>\n",
       "      <td>All Wheel Drive</td>\n",
       "      <td>Type 2 CCS</td>\n",
       "      <td>SUV</td>\n",
       "      <td>E</td>\n",
       "      <td>5</td>\n",
       "      <td>96050</td>\n",
       "    </tr>\n",
       "    <tr>\n",
       "      <th>100</th>\n",
       "      <td>Nissan</td>\n",
       "      <td>Ariya e-4ORCE 63kWh</td>\n",
       "      <td>5.9 sec</td>\n",
       "      <td>200 km/h</td>\n",
       "      <td>325 km</td>\n",
       "      <td>194 Wh/km</td>\n",
       "      <td>440 km/h</td>\n",
       "      <td>Rapid charging possible</td>\n",
       "      <td>All Wheel Drive</td>\n",
       "      <td>Type 2 CCS</td>\n",
       "      <td>Hatchback</td>\n",
       "      <td>C</td>\n",
       "      <td>5</td>\n",
       "      <td>50000</td>\n",
       "    </tr>\n",
       "    <tr>\n",
       "      <th>101</th>\n",
       "      <td>Nissan</td>\n",
       "      <td>Ariya e-4ORCE 87kWh Performance</td>\n",
       "      <td>5.1 sec</td>\n",
       "      <td>200 km/h</td>\n",
       "      <td>375 km</td>\n",
       "      <td>232 Wh/km</td>\n",
       "      <td>450 km/h</td>\n",
       "      <td>Rapid charging possible</td>\n",
       "      <td>All Wheel Drive</td>\n",
       "      <td>Type 2 CCS</td>\n",
       "      <td>Hatchback</td>\n",
       "      <td>C</td>\n",
       "      <td>5</td>\n",
       "      <td>65000</td>\n",
       "    </tr>\n",
       "    <tr>\n",
       "      <th>102</th>\n",
       "      <td>Byton</td>\n",
       "      <td>M-Byte 95 kWh 2WD</td>\n",
       "      <td>7.5 sec</td>\n",
       "      <td>190 km/h</td>\n",
       "      <td>400 km</td>\n",
       "      <td>238 Wh/km</td>\n",
       "      <td>480 km/h</td>\n",
       "      <td>Rapid charging possible</td>\n",
       "      <td>All Wheel Drive</td>\n",
       "      <td>Type 2 CCS</td>\n",
       "      <td>SUV</td>\n",
       "      <td>E</td>\n",
       "      <td>5</td>\n",
       "      <td>62000</td>\n",
       "    </tr>\n",
       "  </tbody>\n",
       "</table>\n",
       "<p>103 rows × 14 columns</p>\n",
       "</div>"
      ],
      "text/plain": [
       "           Brand                            Model     Accel  TopSpeed   Range  \\\n",
       "0         Tesla     Model 3 Long Range Dual Motor   4.6 sec  233 km/h  450 km   \n",
       "1    Volkswagen                         ID.3 Pure  10.0 sec  160 km/h  270 km   \n",
       "2      Polestar                                 2   4.7 sec  210 km/h  400 km   \n",
       "3           BMW                              iX3    6.8 sec  180 km/h  360 km   \n",
       "4         Honda                                e    9.5 sec  145 km/h  170 km   \n",
       "..           ...                              ...       ...       ...     ...   \n",
       "98       Nissan                       Ariya 63kWh   7.5 sec  160 km/h  330 km   \n",
       "99         Audi     e-tron S Sportback 55 quattro   4.5 sec  210 km/h  335 km   \n",
       "100      Nissan               Ariya e-4ORCE 63kWh   5.9 sec  200 km/h  325 km   \n",
       "101      Nissan   Ariya e-4ORCE 87kWh Performance   5.1 sec  200 km/h  375 km   \n",
       "102       Byton                 M-Byte 95 kWh 2WD   7.5 sec  190 km/h  400 km   \n",
       "\n",
       "    Efficiency FastCharge              RapidCharge         PowerTrain  \\\n",
       "0    161 Wh/km   940 km/h  Rapid charging possible    All Wheel Drive   \n",
       "1    167 Wh/km   250 km/h  Rapid charging possible   Rear Wheel Drive   \n",
       "2    181 Wh/km   620 km/h  Rapid charging possible    All Wheel Drive   \n",
       "3    206 Wh/km   560 km/h  Rapid charging possible   Rear Wheel Drive   \n",
       "4    168 Wh/km   190 km/h  Rapid charging possible   Rear Wheel Drive   \n",
       "..         ...        ...                      ...                ...   \n",
       "98   191 Wh/km   440 km/h  Rapid charging possible  Front Wheel Drive   \n",
       "99   258 Wh/km   540 km/h  Rapid charging possible    All Wheel Drive   \n",
       "100  194 Wh/km   440 km/h  Rapid charging possible    All Wheel Drive   \n",
       "101  232 Wh/km   450 km/h  Rapid charging possible    All Wheel Drive   \n",
       "102  238 Wh/km   480 km/h  Rapid charging possible    All Wheel Drive   \n",
       "\n",
       "       PlugType  BodyStyle Segment  Seats  PriceEuro  \n",
       "0    Type 2 CCS      Sedan       D      5      55480  \n",
       "1    Type 2 CCS  Hatchback       C      5      30000  \n",
       "2    Type 2 CCS   Liftback       D      5      56440  \n",
       "3    Type 2 CCS        SUV       D      5      68040  \n",
       "4    Type 2 CCS  Hatchback       B      4      32997  \n",
       "..          ...        ...     ...    ...        ...  \n",
       "98   Type 2 CCS  Hatchback       C      5      45000  \n",
       "99   Type 2 CCS        SUV       E      5      96050  \n",
       "100  Type 2 CCS  Hatchback       C      5      50000  \n",
       "101  Type 2 CCS  Hatchback       C      5      65000  \n",
       "102  Type 2 CCS        SUV       E      5      62000  \n",
       "\n",
       "[103 rows x 14 columns]"
      ]
     },
     "execution_count": 5,
     "metadata": {},
     "output_type": "execute_result"
    }
   ],
   "source": [
    "df"
   ]
  },
  {
   "cell_type": "code",
   "execution_count": 6,
   "metadata": {
    "execution": {
     "iopub.execute_input": "2022-08-01T15:17:29.121333Z",
     "iopub.status.busy": "2022-08-01T15:17:29.120752Z",
     "iopub.status.idle": "2022-08-01T15:17:29.129695Z",
     "shell.execute_reply": "2022-08-01T15:17:29.128363Z",
     "shell.execute_reply.started": "2022-08-01T15:17:29.121280Z"
    }
   },
   "outputs": [
    {
     "data": {
      "text/plain": [
       "(103, 14)"
      ]
     },
     "execution_count": 6,
     "metadata": {},
     "output_type": "execute_result"
    }
   ],
   "source": [
    "df.shape"
   ]
  },
  {
   "cell_type": "code",
   "execution_count": 7,
   "metadata": {
    "execution": {
     "iopub.execute_input": "2022-08-01T15:17:41.959449Z",
     "iopub.status.busy": "2022-08-01T15:17:41.959052Z",
     "iopub.status.idle": "2022-08-01T15:17:41.969151Z",
     "shell.execute_reply": "2022-08-01T15:17:41.968247Z",
     "shell.execute_reply.started": "2022-08-01T15:17:41.959407Z"
    }
   },
   "outputs": [
    {
     "data": {
      "text/plain": [
       "Brand          False\n",
       "Model          False\n",
       "Accel          False\n",
       "TopSpeed       False\n",
       "Range          False\n",
       "Efficiency     False\n",
       "FastCharge     False\n",
       "RapidCharge    False\n",
       "PowerTrain     False\n",
       "PlugType       False\n",
       "BodyStyle      False\n",
       "Segment        False\n",
       "Seats          False\n",
       "PriceEuro      False\n",
       "dtype: bool"
      ]
     },
     "execution_count": 7,
     "metadata": {},
     "output_type": "execute_result"
    }
   ],
   "source": [
    "df.isnull().any()"
   ]
  },
  {
   "cell_type": "code",
   "execution_count": 8,
   "metadata": {
    "execution": {
     "iopub.execute_input": "2022-08-01T15:17:49.120677Z",
     "iopub.status.busy": "2022-08-01T15:17:49.119763Z",
     "iopub.status.idle": "2022-08-01T15:17:49.135068Z",
     "shell.execute_reply": "2022-08-01T15:17:49.133834Z",
     "shell.execute_reply.started": "2022-08-01T15:17:49.120629Z"
    }
   },
   "outputs": [
    {
     "data": {
      "text/plain": [
       "<bound method NDFrame.head of            Brand                            Model     Accel  TopSpeed   Range  \\\n",
       "0         Tesla     Model 3 Long Range Dual Motor   4.6 sec  233 km/h  450 km   \n",
       "1    Volkswagen                         ID.3 Pure  10.0 sec  160 km/h  270 km   \n",
       "2      Polestar                                 2   4.7 sec  210 km/h  400 km   \n",
       "3           BMW                              iX3    6.8 sec  180 km/h  360 km   \n",
       "4         Honda                                e    9.5 sec  145 km/h  170 km   \n",
       "..           ...                              ...       ...       ...     ...   \n",
       "98       Nissan                       Ariya 63kWh   7.5 sec  160 km/h  330 km   \n",
       "99         Audi     e-tron S Sportback 55 quattro   4.5 sec  210 km/h  335 km   \n",
       "100      Nissan               Ariya e-4ORCE 63kWh   5.9 sec  200 km/h  325 km   \n",
       "101      Nissan   Ariya e-4ORCE 87kWh Performance   5.1 sec  200 km/h  375 km   \n",
       "102       Byton                 M-Byte 95 kWh 2WD   7.5 sec  190 km/h  400 km   \n",
       "\n",
       "    Efficiency FastCharge              RapidCharge         PowerTrain  \\\n",
       "0    161 Wh/km   940 km/h  Rapid charging possible    All Wheel Drive   \n",
       "1    167 Wh/km   250 km/h  Rapid charging possible   Rear Wheel Drive   \n",
       "2    181 Wh/km   620 km/h  Rapid charging possible    All Wheel Drive   \n",
       "3    206 Wh/km   560 km/h  Rapid charging possible   Rear Wheel Drive   \n",
       "4    168 Wh/km   190 km/h  Rapid charging possible   Rear Wheel Drive   \n",
       "..         ...        ...                      ...                ...   \n",
       "98   191 Wh/km   440 km/h  Rapid charging possible  Front Wheel Drive   \n",
       "99   258 Wh/km   540 km/h  Rapid charging possible    All Wheel Drive   \n",
       "100  194 Wh/km   440 km/h  Rapid charging possible    All Wheel Drive   \n",
       "101  232 Wh/km   450 km/h  Rapid charging possible    All Wheel Drive   \n",
       "102  238 Wh/km   480 km/h  Rapid charging possible    All Wheel Drive   \n",
       "\n",
       "       PlugType  BodyStyle Segment  Seats  PriceEuro  \n",
       "0    Type 2 CCS      Sedan       D      5      55480  \n",
       "1    Type 2 CCS  Hatchback       C      5      30000  \n",
       "2    Type 2 CCS   Liftback       D      5      56440  \n",
       "3    Type 2 CCS        SUV       D      5      68040  \n",
       "4    Type 2 CCS  Hatchback       B      4      32997  \n",
       "..          ...        ...     ...    ...        ...  \n",
       "98   Type 2 CCS  Hatchback       C      5      45000  \n",
       "99   Type 2 CCS        SUV       E      5      96050  \n",
       "100  Type 2 CCS  Hatchback       C      5      50000  \n",
       "101  Type 2 CCS  Hatchback       C      5      65000  \n",
       "102  Type 2 CCS        SUV       E      5      62000  \n",
       "\n",
       "[103 rows x 14 columns]>"
      ]
     },
     "execution_count": 8,
     "metadata": {},
     "output_type": "execute_result"
    }
   ],
   "source": [
    "df.head"
   ]
  },
  {
   "cell_type": "code",
   "execution_count": 9,
   "metadata": {
    "execution": {
     "iopub.execute_input": "2022-08-01T15:17:59.368640Z",
     "iopub.status.busy": "2022-08-01T15:17:59.368240Z",
     "iopub.status.idle": "2022-08-01T15:17:59.382184Z",
     "shell.execute_reply": "2022-08-01T15:17:59.380940Z",
     "shell.execute_reply.started": "2022-08-01T15:17:59.368605Z"
    }
   },
   "outputs": [
    {
     "data": {
      "text/plain": [
       "array(['All Wheel Drive', 'Rear Wheel Drive', 'Front Wheel Drive'],\n",
       "      dtype=object)"
      ]
     },
     "execution_count": 9,
     "metadata": {},
     "output_type": "execute_result"
    }
   ],
   "source": [
    "df['PowerTrain'].unique()"
   ]
  },
  {
   "cell_type": "code",
   "execution_count": 10,
   "metadata": {
    "execution": {
     "iopub.execute_input": "2022-08-01T15:18:08.548533Z",
     "iopub.status.busy": "2022-08-01T15:18:08.547698Z",
     "iopub.status.idle": "2022-08-01T15:18:08.555288Z",
     "shell.execute_reply": "2022-08-01T15:18:08.554446Z",
     "shell.execute_reply.started": "2022-08-01T15:18:08.548486Z"
    }
   },
   "outputs": [
    {
     "data": {
      "text/plain": [
       "array(['Sedan', 'Hatchback', 'Liftback', 'SUV', 'Pickup', 'MPV', 'Cabrio',\n",
       "       'SPV', 'Station'], dtype=object)"
      ]
     },
     "execution_count": 10,
     "metadata": {},
     "output_type": "execute_result"
    }
   ],
   "source": [
    "df['BodyStyle'].unique()"
   ]
  },
  {
   "cell_type": "code",
   "execution_count": 11,
   "metadata": {
    "execution": {
     "iopub.execute_input": "2022-08-01T15:18:15.542573Z",
     "iopub.status.busy": "2022-08-01T15:18:15.542136Z",
     "iopub.status.idle": "2022-08-01T15:18:15.551229Z",
     "shell.execute_reply": "2022-08-01T15:18:15.550091Z",
     "shell.execute_reply.started": "2022-08-01T15:18:15.542535Z"
    }
   },
   "outputs": [
    {
     "data": {
      "text/plain": [
       "array(['940 km/h', '250 km/h', '620 km/h', '560 km/h', '190 km/h',\n",
       "       '220 km/h', '420 km/h', '650 km/h', '540 km/h', '440 km/h',\n",
       "       '230 km/h', '380 km/h', '210 km/h', '590 km/h', '780 km/h',\n",
       "       '170 km/h', '260 km/h', '930 km/h', '850 km/h', '910 km/h',\n",
       "       '490 km/h', '470 km/h', '270 km/h', '450 km/h', '350 km/h',\n",
       "       '710 km/h', '240 km/h', '390 km/h', '570 km/h', '610 km/h',\n",
       "       '340 km/h', '730 km/h', '920 km/h', '-', '550 km/h', '900 km/h',\n",
       "       '520 km/h', '430 km/h', '890 km/h', '410 km/h', '770 km/h',\n",
       "       '460 km/h', '360 km/h', '810 km/h', '480 km/h', '290 km/h',\n",
       "       '330 km/h', '740 km/h', '510 km/h', '320 km/h', '500 km/h'],\n",
       "      dtype=object)"
      ]
     },
     "execution_count": 11,
     "metadata": {},
     "output_type": "execute_result"
    }
   ],
   "source": [
    "df['FastCharge'].unique()"
   ]
  },
  {
   "cell_type": "code",
   "execution_count": 12,
   "metadata": {
    "execution": {
     "iopub.execute_input": "2022-08-01T15:18:24.324748Z",
     "iopub.status.busy": "2022-08-01T15:18:24.324341Z",
     "iopub.status.idle": "2022-08-01T15:18:24.331907Z",
     "shell.execute_reply": "2022-08-01T15:18:24.331013Z",
     "shell.execute_reply.started": "2022-08-01T15:18:24.324715Z"
    }
   },
   "outputs": [
    {
     "data": {
      "text/plain": [
       "array(['Rapid charging possible', 'Rapid charging not possible'],\n",
       "      dtype=object)"
      ]
     },
     "execution_count": 12,
     "metadata": {},
     "output_type": "execute_result"
    }
   ],
   "source": [
    "df['RapidCharge'].unique()"
   ]
  },
  {
   "cell_type": "code",
   "execution_count": 13,
   "metadata": {
    "execution": {
     "iopub.execute_input": "2022-08-01T15:18:39.879122Z",
     "iopub.status.busy": "2022-08-01T15:18:39.878667Z",
     "iopub.status.idle": "2022-08-01T15:18:39.886834Z",
     "shell.execute_reply": "2022-08-01T15:18:39.885755Z",
     "shell.execute_reply.started": "2022-08-01T15:18:39.879082Z"
    }
   },
   "outputs": [
    {
     "data": {
      "text/plain": [
       "array(['D', 'C', 'B', 'F', 'A', 'E', 'N', 'S'], dtype=object)"
      ]
     },
     "execution_count": 13,
     "metadata": {},
     "output_type": "execute_result"
    }
   ],
   "source": [
    "df['Segment'].unique()"
   ]
  },
  {
   "cell_type": "code",
   "execution_count": 14,
   "metadata": {
    "execution": {
     "iopub.execute_input": "2022-08-01T15:18:51.238935Z",
     "iopub.status.busy": "2022-08-01T15:18:51.238531Z",
     "iopub.status.idle": "2022-08-01T15:18:51.246719Z",
     "shell.execute_reply": "2022-08-01T15:18:51.245574Z",
     "shell.execute_reply.started": "2022-08-01T15:18:51.238896Z"
    }
   },
   "outputs": [
    {
     "data": {
      "text/plain": [
       "array(['Type 2 CCS', 'Type 2 CHAdeMO', 'Type 2', 'Type 1 CHAdeMO'],\n",
       "      dtype=object)"
      ]
     },
     "execution_count": 14,
     "metadata": {},
     "output_type": "execute_result"
    }
   ],
   "source": [
    "df['PlugType'].unique()"
   ]
  },
  {
   "cell_type": "code",
   "execution_count": 15,
   "metadata": {
    "execution": {
     "iopub.execute_input": "2022-08-01T15:22:09.233356Z",
     "iopub.status.busy": "2022-08-01T15:22:09.232908Z",
     "iopub.status.idle": "2022-08-01T15:22:09.246275Z",
     "shell.execute_reply": "2022-08-01T15:22:09.245077Z",
     "shell.execute_reply.started": "2022-08-01T15:22:09.233323Z"
    }
   },
   "outputs": [],
   "source": [
    "# Replacing km values from the dataset\n",
    "\n",
    "df[['FastCharge','TopSpeed','Range','Efficiency','Accel']] = df[['FastCharge','TopSpeed','Range','Efficiency','Accel']].replace(to_replace=r'([a-z/]+|[A-Z/]+)', value='', regex=True)\n"
   ]
  },
  {
   "cell_type": "code",
   "execution_count": 16,
   "metadata": {
    "execution": {
     "iopub.execute_input": "2022-08-01T15:22:50.972077Z",
     "iopub.status.busy": "2022-08-01T15:22:50.971355Z",
     "iopub.status.idle": "2022-08-01T15:22:50.978451Z",
     "shell.execute_reply": "2022-08-01T15:22:50.977103Z",
     "shell.execute_reply.started": "2022-08-01T15:22:50.972038Z"
    }
   },
   "outputs": [],
   "source": [
    "# Updating the '-' in the dataset with mean value\n",
    "\n",
    "df['FastCharge']=df['FastCharge'].str.replace('-','0')"
   ]
  },
  {
   "cell_type": "code",
   "execution_count": 17,
   "metadata": {
    "execution": {
     "iopub.execute_input": "2022-08-01T15:23:01.226162Z",
     "iopub.status.busy": "2022-08-01T15:23:01.225732Z",
     "iopub.status.idle": "2022-08-01T15:23:01.232633Z",
     "shell.execute_reply": "2022-08-01T15:23:01.231332Z",
     "shell.execute_reply.started": "2022-08-01T15:23:01.226118Z"
    }
   },
   "outputs": [],
   "source": [
    "df['FastCharge']=df['FastCharge'].astype(float)"
   ]
  },
  {
   "cell_type": "code",
   "execution_count": 18,
   "metadata": {
    "execution": {
     "iopub.execute_input": "2022-08-01T15:24:47.140736Z",
     "iopub.status.busy": "2022-08-01T15:24:47.140340Z",
     "iopub.status.idle": "2022-08-01T15:24:47.148826Z",
     "shell.execute_reply": "2022-08-01T15:24:47.147955Z",
     "shell.execute_reply.started": "2022-08-01T15:24:47.140704Z"
    }
   },
   "outputs": [
    {
     "data": {
      "text/plain": [
       "434.56310679611653"
      ]
     },
     "execution_count": 18,
     "metadata": {},
     "output_type": "execute_result"
    }
   ],
   "source": [
    "df['FastCharge'].mean()"
   ]
  },
  {
   "cell_type": "code",
   "execution_count": 19,
   "metadata": {
    "execution": {
     "iopub.execute_input": "2022-08-01T15:25:00.082204Z",
     "iopub.status.busy": "2022-08-01T15:25:00.081775Z",
     "iopub.status.idle": "2022-08-01T15:25:00.089069Z",
     "shell.execute_reply": "2022-08-01T15:25:00.087353Z",
     "shell.execute_reply.started": "2022-08-01T15:25:00.082170Z"
    }
   },
   "outputs": [],
   "source": [
    "df['FastCharge']=df['FastCharge'].replace(0,434.56)"
   ]
  },
  {
   "cell_type": "code",
   "execution_count": 20,
   "metadata": {
    "execution": {
     "iopub.execute_input": "2022-08-01T15:25:45.155685Z",
     "iopub.status.busy": "2022-08-01T15:25:45.154689Z",
     "iopub.status.idle": "2022-08-01T15:25:45.163646Z",
     "shell.execute_reply": "2022-08-01T15:25:45.162571Z",
     "shell.execute_reply.started": "2022-08-01T15:25:45.155647Z"
    }
   },
   "outputs": [
    {
     "data": {
      "text/plain": [
       "array([940.  , 250.  , 620.  , 560.  , 190.  , 220.  , 420.  , 650.  ,\n",
       "       540.  , 440.  , 230.  , 380.  , 210.  , 590.  , 780.  , 170.  ,\n",
       "       260.  , 930.  , 850.  , 910.  , 490.  , 470.  , 270.  , 450.  ,\n",
       "       350.  , 710.  , 240.  , 390.  , 570.  , 610.  , 340.  , 730.  ,\n",
       "       920.  , 434.56, 550.  , 900.  , 520.  , 430.  , 890.  , 410.  ,\n",
       "       770.  , 460.  , 360.  , 810.  , 480.  , 290.  , 330.  , 740.  ,\n",
       "       510.  , 320.  , 500.  ])"
      ]
     },
     "execution_count": 20,
     "metadata": {},
     "output_type": "execute_result"
    }
   ],
   "source": [
    "df['FastCharge'].unique()"
   ]
  },
  {
   "cell_type": "code",
   "execution_count": 21,
   "metadata": {
    "execution": {
     "iopub.execute_input": "2022-08-01T15:26:55.621857Z",
     "iopub.status.busy": "2022-08-01T15:26:55.621409Z",
     "iopub.status.idle": "2022-08-01T15:26:55.631257Z",
     "shell.execute_reply": "2022-08-01T15:26:55.629885Z",
     "shell.execute_reply.started": "2022-08-01T15:26:55.621820Z"
    }
   },
   "outputs": [],
   "source": [
    "df1=df.drop(['Brand','Model'],axis=1)"
   ]
  },
  {
   "cell_type": "code",
   "execution_count": 22,
   "metadata": {
    "execution": {
     "iopub.execute_input": "2022-08-01T15:27:05.014460Z",
     "iopub.status.busy": "2022-08-01T15:27:05.013714Z",
     "iopub.status.idle": "2022-08-01T15:27:05.033982Z",
     "shell.execute_reply": "2022-08-01T15:27:05.032919Z",
     "shell.execute_reply.started": "2022-08-01T15:27:05.014415Z"
    }
   },
   "outputs": [
    {
     "data": {
      "text/html": [
       "<div>\n",
       "<style scoped>\n",
       "    .dataframe tbody tr th:only-of-type {\n",
       "        vertical-align: middle;\n",
       "    }\n",
       "\n",
       "    .dataframe tbody tr th {\n",
       "        vertical-align: top;\n",
       "    }\n",
       "\n",
       "    .dataframe thead th {\n",
       "        text-align: right;\n",
       "    }\n",
       "</style>\n",
       "<table border=\"1\" class=\"dataframe\">\n",
       "  <thead>\n",
       "    <tr style=\"text-align: right;\">\n",
       "      <th></th>\n",
       "      <th>Accel</th>\n",
       "      <th>TopSpeed</th>\n",
       "      <th>Range</th>\n",
       "      <th>Efficiency</th>\n",
       "      <th>FastCharge</th>\n",
       "      <th>RapidCharge</th>\n",
       "      <th>PowerTrain</th>\n",
       "      <th>PlugType</th>\n",
       "      <th>BodyStyle</th>\n",
       "      <th>Segment</th>\n",
       "      <th>Seats</th>\n",
       "      <th>PriceEuro</th>\n",
       "    </tr>\n",
       "  </thead>\n",
       "  <tbody>\n",
       "    <tr>\n",
       "      <th>0</th>\n",
       "      <td>4.6</td>\n",
       "      <td>233</td>\n",
       "      <td>450</td>\n",
       "      <td>161</td>\n",
       "      <td>940.0</td>\n",
       "      <td>Rapid charging possible</td>\n",
       "      <td>All Wheel Drive</td>\n",
       "      <td>Type 2 CCS</td>\n",
       "      <td>Sedan</td>\n",
       "      <td>D</td>\n",
       "      <td>5</td>\n",
       "      <td>55480</td>\n",
       "    </tr>\n",
       "    <tr>\n",
       "      <th>1</th>\n",
       "      <td>10.0</td>\n",
       "      <td>160</td>\n",
       "      <td>270</td>\n",
       "      <td>167</td>\n",
       "      <td>250.0</td>\n",
       "      <td>Rapid charging possible</td>\n",
       "      <td>Rear Wheel Drive</td>\n",
       "      <td>Type 2 CCS</td>\n",
       "      <td>Hatchback</td>\n",
       "      <td>C</td>\n",
       "      <td>5</td>\n",
       "      <td>30000</td>\n",
       "    </tr>\n",
       "    <tr>\n",
       "      <th>2</th>\n",
       "      <td>4.7</td>\n",
       "      <td>210</td>\n",
       "      <td>400</td>\n",
       "      <td>181</td>\n",
       "      <td>620.0</td>\n",
       "      <td>Rapid charging possible</td>\n",
       "      <td>All Wheel Drive</td>\n",
       "      <td>Type 2 CCS</td>\n",
       "      <td>Liftback</td>\n",
       "      <td>D</td>\n",
       "      <td>5</td>\n",
       "      <td>56440</td>\n",
       "    </tr>\n",
       "    <tr>\n",
       "      <th>3</th>\n",
       "      <td>6.8</td>\n",
       "      <td>180</td>\n",
       "      <td>360</td>\n",
       "      <td>206</td>\n",
       "      <td>560.0</td>\n",
       "      <td>Rapid charging possible</td>\n",
       "      <td>Rear Wheel Drive</td>\n",
       "      <td>Type 2 CCS</td>\n",
       "      <td>SUV</td>\n",
       "      <td>D</td>\n",
       "      <td>5</td>\n",
       "      <td>68040</td>\n",
       "    </tr>\n",
       "    <tr>\n",
       "      <th>4</th>\n",
       "      <td>9.5</td>\n",
       "      <td>145</td>\n",
       "      <td>170</td>\n",
       "      <td>168</td>\n",
       "      <td>190.0</td>\n",
       "      <td>Rapid charging possible</td>\n",
       "      <td>Rear Wheel Drive</td>\n",
       "      <td>Type 2 CCS</td>\n",
       "      <td>Hatchback</td>\n",
       "      <td>B</td>\n",
       "      <td>4</td>\n",
       "      <td>32997</td>\n",
       "    </tr>\n",
       "  </tbody>\n",
       "</table>\n",
       "</div>"
      ],
      "text/plain": [
       "   Accel TopSpeed Range Efficiency  FastCharge              RapidCharge  \\\n",
       "0   4.6      233   450        161        940.0  Rapid charging possible   \n",
       "1  10.0      160   270        167        250.0  Rapid charging possible   \n",
       "2   4.7      210   400        181        620.0  Rapid charging possible   \n",
       "3   6.8      180   360        206        560.0  Rapid charging possible   \n",
       "4   9.5      145   170        168        190.0  Rapid charging possible   \n",
       "\n",
       "         PowerTrain    PlugType  BodyStyle Segment  Seats  PriceEuro  \n",
       "0   All Wheel Drive  Type 2 CCS      Sedan       D      5      55480  \n",
       "1  Rear Wheel Drive  Type 2 CCS  Hatchback       C      5      30000  \n",
       "2   All Wheel Drive  Type 2 CCS   Liftback       D      5      56440  \n",
       "3  Rear Wheel Drive  Type 2 CCS        SUV       D      5      68040  \n",
       "4  Rear Wheel Drive  Type 2 CCS  Hatchback       B      4      32997  "
      ]
     },
     "execution_count": 22,
     "metadata": {},
     "output_type": "execute_result"
    }
   ],
   "source": [
    "df1.head()"
   ]
  },
  {
   "cell_type": "code",
   "execution_count": 23,
   "metadata": {
    "execution": {
     "iopub.execute_input": "2022-08-01T15:27:13.714889Z",
     "iopub.status.busy": "2022-08-01T15:27:13.713826Z",
     "iopub.status.idle": "2022-08-01T15:27:15.518456Z",
     "shell.execute_reply": "2022-08-01T15:27:15.517241Z",
     "shell.execute_reply.started": "2022-08-01T15:27:13.714830Z"
    }
   },
   "outputs": [
    {
     "data": {
      "image/png": "[encoded data removed]",
      "text/plain": [
       "<Figure size 540x540 with 12 Axes>"
      ]
     },
     "metadata": {
      "needs_background": "light"
     },
     "output_type": "display_data"
    }
   ],
   "source": [
    "sns.pairplot(df1)\n",
    "plt.show()"
   ]
  },
  {
   "cell_type": "code",
   "execution_count": 24,
   "metadata": {
    "execution": {
     "iopub.execute_input": "2022-08-01T15:28:34.644948Z",
     "iopub.status.busy": "2022-08-01T15:28:34.644521Z",
     "iopub.status.idle": "2022-08-01T15:28:34.777202Z",
     "shell.execute_reply": "2022-08-01T15:28:34.775474Z",
     "shell.execute_reply.started": "2022-08-01T15:28:34.644913Z"
    }
   },
   "outputs": [
    {
     "data": {
      "image/png": "[encoded data removed]",
      "text/plain": [
       "<Figure size 648x504 with 1 Axes>"
      ]
     },
     "metadata": {},
     "output_type": "display_data"
    }
   ],
   "source": [
    "plt.figure(figsize=[9,7])\n",
    "df1['RapidCharge'].value_counts().plot.pie(autopct='%.0f%%')\n",
    "plt.show()"
   ]
  },
  {
   "cell_type": "code",
   "execution_count": 25,
   "metadata": {
    "execution": {
     "iopub.execute_input": "2022-08-01T15:28:39.736098Z",
     "iopub.status.busy": "2022-08-01T15:28:39.735649Z",
     "iopub.status.idle": "2022-08-01T15:28:39.894449Z",
     "shell.execute_reply": "2022-08-01T15:28:39.893119Z",
     "shell.execute_reply.started": "2022-08-01T15:28:39.736062Z"
    }
   },
   "outputs": [
    {
     "data": {
      "image/png": "[encoded data removed]",
      "text/plain": [
       "<Figure size 648x504 with 1 Axes>"
      ]
     },
     "metadata": {},
     "output_type": "display_data"
    }
   ],
   "source": [
    "plt.figure(figsize=[9,7])\n",
    "df1['Segment'].value_counts().plot.pie(autopct='%.0f%%')\n",
    "plt.show()"
   ]
  },
  {
   "cell_type": "code",
   "execution_count": 26,
   "metadata": {
    "execution": {
     "iopub.execute_input": "2022-08-01T15:28:56.001454Z",
     "iopub.status.busy": "2022-08-01T15:28:56.000995Z",
     "iopub.status.idle": "2022-08-01T15:28:56.151469Z",
     "shell.execute_reply": "2022-08-01T15:28:56.150180Z",
     "shell.execute_reply.started": "2022-08-01T15:28:56.001419Z"
    }
   },
   "outputs": [
    {
     "data": {
      "image/png": "[encoded data removed]",
      "text/plain": [
       "<Figure size 648x504 with 1 Axes>"
      ]
     },
     "metadata": {},
     "output_type": "display_data"
    }
   ],
   "source": [
    "plt.figure(figsize=[9,7])\n",
    "df1['PlugType'].value_counts().plot.pie(autopct='%.0f%%')\n",
    "plt.show()"
   ]
  },
  {
   "cell_type": "code",
   "execution_count": 27,
   "metadata": {
    "execution": {
     "iopub.execute_input": "2022-08-01T15:29:15.732811Z",
     "iopub.status.busy": "2022-08-01T15:29:15.732404Z",
     "iopub.status.idle": "2022-08-01T15:29:15.741599Z",
     "shell.execute_reply": "2022-08-01T15:29:15.740349Z",
     "shell.execute_reply.started": "2022-08-01T15:29:15.732774Z"
    }
   },
   "outputs": [],
   "source": [
    "df1['TopSpeed'] = df1['TopSpeed'].astype(int)\n",
    "df1['Range'] = df1['Range'].astype(int)\n",
    "df1['Efficiency'] = df1['Efficiency'].astype(int)\n",
    "df1['Accel'] = df1['Accel'].astype(float)"
   ]
  },
  {
   "cell_type": "code",
   "execution_count": 28,
   "metadata": {
    "execution": {
     "iopub.execute_input": "2022-08-01T15:29:30.906311Z",
     "iopub.status.busy": "2022-08-01T15:29:30.905924Z",
     "iopub.status.idle": "2022-08-01T15:29:31.220986Z",
     "shell.execute_reply": "2022-08-01T15:29:31.219821Z",
     "shell.execute_reply.started": "2022-08-01T15:29:30.906279Z"
    }
   },
   "outputs": [
    {
     "data": {
      "image/png": "[encoded data removed]",
      "text/plain": [
       "<Figure size 432x288 with 1 Axes>"
      ]
     },
     "metadata": {
      "needs_background": "light"
     },
     "output_type": "display_data"
    },
    {
     "data": {
      "image/png": "[encoded data removed]",
      "text/plain": [
       "<Figure size 432x288 with 1 Axes>"
      ]
     },
     "metadata": {
      "needs_background": "light"
     },
     "output_type": "display_data"
    }
   ],
   "source": [
    "sns.boxplot(x=df1['TopSpeed'])\n",
    "plt.show()\n",
    "def convert(x):\n",
    "     if x<160:\n",
    "       return \"Low\"\n",
    "     elif x>=160 and x<190:\n",
    "       return \"Medium\"\n",
    "     else:\n",
    "       return \"High\"\n",
    "converted_TopSpeed=df1['TopSpeed'].apply(convert)\n",
    "sns.countplot(x=converted_TopSpeed)\n",
    "plt.show()"
   ]
  },
  {
   "cell_type": "code",
   "execution_count": 29,
   "metadata": {
    "execution": {
     "iopub.execute_input": "2022-08-01T15:30:56.719516Z",
     "iopub.status.busy": "2022-08-01T15:30:56.719106Z",
     "iopub.status.idle": "2022-08-01T15:30:57.025107Z",
     "shell.execute_reply": "2022-08-01T15:30:57.023927Z",
     "shell.execute_reply.started": "2022-08-01T15:30:56.719475Z"
    }
   },
   "outputs": [
    {
     "data": {
      "image/png": "[encoded data removed]",
      "text/plain": [
       "<Figure size 432x288 with 1 Axes>"
      ]
     },
     "metadata": {
      "needs_background": "light"
     },
     "output_type": "display_data"
    },
    {
     "name": "stderr",
     "output_type": "stream",
     "text": [
      "/opt/conda/lib/python3.7/site-packages/seaborn/_decorators.py:43: FutureWarning: Pass the following variable as a keyword arg: x. From version 0.12, the only valid positional argument will be `data`, and passing other arguments without an explicit keyword will result in an error or misinterpretation.\n",
      "  FutureWarning\n"
     ]
    },
    {
     "data": {
      "image/png": "[encoded data removed]",
      "text/plain": [
       "<Figure size 432x288 with 1 Axes>"
      ]
     },
     "metadata": {
      "needs_background": "light"
     },
     "output_type": "display_data"
    }
   ],
   "source": [
    "sns.boxplot(x=df1['Range'])\n",
    "plt.show()\n",
    "def convert1(x):\n",
    "     if x<250:\n",
    "       return \"Low\"\n",
    "     elif x>=250 and x<400:\n",
    "       return \"Medium\"\n",
    "     else:\n",
    "       return \"High\"\n",
    "converted_Range=df1['Range'].apply(convert1)\n",
    "sns.countplot(converted_Range)\n",
    "plt.show()"
   ]
  },
  {
   "cell_type": "code",
   "execution_count": 30,
   "metadata": {
    "execution": {
     "iopub.execute_input": "2022-08-01T15:31:30.374046Z",
     "iopub.status.busy": "2022-08-01T15:31:30.373594Z",
     "iopub.status.idle": "2022-08-01T15:31:30.832901Z",
     "shell.execute_reply": "2022-08-01T15:31:30.831800Z",
     "shell.execute_reply.started": "2022-08-01T15:31:30.374006Z"
    }
   },
   "outputs": [
    {
     "data": {
      "image/png": "[encoded data removed]",
      "text/plain": [
       "<Figure size 432x288 with 1 Axes>"
      ]
     },
     "metadata": {
      "needs_background": "light"
     },
     "output_type": "display_data"
    },
    {
     "name": "stderr",
     "output_type": "stream",
     "text": [
      "/opt/conda/lib/python3.7/site-packages/seaborn/_decorators.py:43: FutureWarning: Pass the following variable as a keyword arg: x. From version 0.12, the only valid positional argument will be `data`, and passing other arguments without an explicit keyword will result in an error or misinterpretation.\n",
      "  FutureWarning\n"
     ]
    },
    {
     "data": {
      "image/png": "[encoded data removed]",
      "text/plain": [
       "<Figure size 432x288 with 1 Axes>"
      ]
     },
     "metadata": {
      "needs_background": "light"
     },
     "output_type": "display_data"
    }
   ],
   "source": [
    "sns.boxplot(x=df1['Efficiency'])\n",
    "plt.show()\n",
    "def convert2(x):\n",
    "     if x<170:\n",
    "       return \"Low\"\n",
    "     elif x>=170 and x<200:\n",
    "       return \"Medium\"\n",
    "     else:\n",
    "       return \"High\"\n",
    "converted_Eff=df1['Efficiency'].apply(convert2)\n",
    "sns.countplot(converted_Eff)\n",
    "plt.show()"
   ]
  },
  {
   "cell_type": "code",
   "execution_count": 31,
   "metadata": {
    "execution": {
     "iopub.execute_input": "2022-08-01T15:31:45.798917Z",
     "iopub.status.busy": "2022-08-01T15:31:45.798446Z",
     "iopub.status.idle": "2022-08-01T15:31:46.130294Z",
     "shell.execute_reply": "2022-08-01T15:31:46.129400Z",
     "shell.execute_reply.started": "2022-08-01T15:31:45.798832Z"
    }
   },
   "outputs": [
    {
     "data": {
      "image/png": "[encoded data removed]",
      "text/plain": [
       "<Figure size 432x288 with 1 Axes>"
      ]
     },
     "metadata": {
      "needs_background": "light"
     },
     "output_type": "display_data"
    },
    {
     "name": "stderr",
     "output_type": "stream",
     "text": [
      "/opt/conda/lib/python3.7/site-packages/seaborn/_decorators.py:43: FutureWarning: Pass the following variable as a keyword arg: x. From version 0.12, the only valid positional argument will be `data`, and passing other arguments without an explicit keyword will result in an error or misinterpretation.\n",
      "  FutureWarning\n"
     ]
    },
    {
     "data": {
      "image/png": "[encoded data removed]",
      "text/plain": [
       "<Figure size 432x288 with 1 Axes>"
      ]
     },
     "metadata": {
      "needs_background": "light"
     },
     "output_type": "display_data"
    }
   ],
   "source": [
    "sns.boxplot(x=df1['Accel'])\n",
    "plt.show()\n",
    "def convert3(x):\n",
    "     if x<6:\n",
    "       return \"Low\"\n",
    "     elif x>=6 and x<8:\n",
    "       return \"Medium\"\n",
    "     else:\n",
    "       return \"High\"\n",
    "converted_Acc=df1['Accel'].apply(convert3)\n",
    "sns.countplot(converted_Acc)\n",
    "plt.show()"
   ]
  },
  {
   "cell_type": "code",
   "execution_count": 32,
   "metadata": {
    "execution": {
     "iopub.execute_input": "2022-08-01T15:31:57.046760Z",
     "iopub.status.busy": "2022-08-01T15:31:57.046323Z",
     "iopub.status.idle": "2022-08-01T15:31:57.055545Z",
     "shell.execute_reply": "2022-08-01T15:31:57.054626Z",
     "shell.execute_reply.started": "2022-08-01T15:31:57.046716Z"
    }
   },
   "outputs": [
    {
     "data": {
      "text/plain": [
       "Type 2 CCS        90\n",
       "Type 2             9\n",
       "Type 2 CHAdeMO     3\n",
       "Type 1 CHAdeMO     1\n",
       "Name: PlugType, dtype: int64"
      ]
     },
     "execution_count": 32,
     "metadata": {},
     "output_type": "execute_result"
    }
   ],
   "source": [
    "df1['PlugType'].value_counts()"
   ]
  },
  {
   "cell_type": "code",
   "execution_count": 33,
   "metadata": {
    "execution": {
     "iopub.execute_input": "2022-08-01T15:32:30.916749Z",
     "iopub.status.busy": "2022-08-01T15:32:30.916351Z",
     "iopub.status.idle": "2022-08-01T15:32:30.925220Z",
     "shell.execute_reply": "2022-08-01T15:32:30.924253Z",
     "shell.execute_reply.started": "2022-08-01T15:32:30.916717Z"
    }
   },
   "outputs": [
    {
     "data": {
      "text/plain": [
       "Rapid charging possible        98\n",
       "Rapid charging not possible     5\n",
       "Name: RapidCharge, dtype: int64"
      ]
     },
     "execution_count": 33,
     "metadata": {},
     "output_type": "execute_result"
    }
   ],
   "source": [
    "df1['RapidCharge'].value_counts()"
   ]
  },
  {
   "cell_type": "code",
   "execution_count": 34,
   "metadata": {
    "execution": {
     "iopub.execute_input": "2022-08-01T15:32:40.424839Z",
     "iopub.status.busy": "2022-08-01T15:32:40.423991Z",
     "iopub.status.idle": "2022-08-01T15:32:40.431501Z",
     "shell.execute_reply": "2022-08-01T15:32:40.430339Z",
     "shell.execute_reply.started": "2022-08-01T15:32:40.424796Z"
    }
   },
   "outputs": [],
   "source": [
    "df1 = df1.drop(columns=['RapidCharge','PlugType'])"
   ]
  },
  {
   "cell_type": "code",
   "execution_count": 36,
   "metadata": {
    "execution": {
     "iopub.execute_input": "2022-08-01T15:32:53.301609Z",
     "iopub.status.busy": "2022-08-01T15:32:53.301222Z",
     "iopub.status.idle": "2022-08-01T15:32:53.306642Z",
     "shell.execute_reply": "2022-08-01T15:32:53.305405Z",
     "shell.execute_reply.started": "2022-08-01T15:32:53.301578Z"
    }
   },
   "outputs": [],
   "source": [
    "from sklearn.preprocessing import OrdinalEncoder"
   ]
  },
  {
   "cell_type": "code",
   "execution_count": 37,
   "metadata": {
    "execution": {
     "iopub.execute_input": "2022-08-01T15:33:16.111262Z",
     "iopub.status.busy": "2022-08-01T15:33:16.110883Z",
     "iopub.status.idle": "2022-08-01T15:33:16.118094Z",
     "shell.execute_reply": "2022-08-01T15:33:16.116839Z",
     "shell.execute_reply.started": "2022-08-01T15:33:16.111231Z"
    }
   },
   "outputs": [],
   "source": [
    "oe1=OrdinalEncoder(categories=[['AWD', 'RWD', 'FWD']])\n",
    "oe2=OrdinalEncoder(categories=[['Sedan', 'Hatchback', 'Liftback', 'SUV', 'Pickup', 'MPV', 'Cabrio','SPV', 'Station']])\n",
    "oe3=OrdinalEncoder(categories=[['D', 'C', 'B', 'F', 'A', 'E', 'N', 'S']])"
   ]
  },
  {
   "cell_type": "code",
   "execution_count": 38,
   "metadata": {
    "execution": {
     "iopub.execute_input": "2022-08-01T15:34:26.344650Z",
     "iopub.status.busy": "2022-08-01T15:34:26.344221Z",
     "iopub.status.idle": "2022-08-01T15:34:26.379194Z",
     "shell.execute_reply": "2022-08-01T15:34:26.378087Z",
     "shell.execute_reply.started": "2022-08-01T15:34:26.344613Z"
    }
   },
   "outputs": [
    {
     "data": {
      "text/html": [
       "<div>\n",
       "<style scoped>\n",
       "    .dataframe tbody tr th:only-of-type {\n",
       "        vertical-align: middle;\n",
       "    }\n",
       "\n",
       "    .dataframe tbody tr th {\n",
       "        vertical-align: top;\n",
       "    }\n",
       "\n",
       "    .dataframe thead th {\n",
       "        text-align: right;\n",
       "    }\n",
       "</style>\n",
       "<table border=\"1\" class=\"dataframe\">\n",
       "  <thead>\n",
       "    <tr style=\"text-align: right;\">\n",
       "      <th></th>\n",
       "      <th>Accel</th>\n",
       "      <th>TopSpeed</th>\n",
       "      <th>Range</th>\n",
       "      <th>Efficiency</th>\n",
       "      <th>FastCharge</th>\n",
       "      <th>Seats</th>\n",
       "      <th>PriceEuro</th>\n",
       "      <th>PowerTrain_All Wheel Drive</th>\n",
       "      <th>PowerTrain_Front Wheel Drive</th>\n",
       "      <th>PowerTrain_Rear Wheel Drive</th>\n",
       "      <th>...</th>\n",
       "      <th>BodyStyle_Sedan</th>\n",
       "      <th>BodyStyle_Station</th>\n",
       "      <th>Segment_A</th>\n",
       "      <th>Segment_B</th>\n",
       "      <th>Segment_C</th>\n",
       "      <th>Segment_D</th>\n",
       "      <th>Segment_E</th>\n",
       "      <th>Segment_F</th>\n",
       "      <th>Segment_N</th>\n",
       "      <th>Segment_S</th>\n",
       "    </tr>\n",
       "  </thead>\n",
       "  <tbody>\n",
       "    <tr>\n",
       "      <th>0</th>\n",
       "      <td>4.6</td>\n",
       "      <td>233</td>\n",
       "      <td>450</td>\n",
       "      <td>161</td>\n",
       "      <td>940.0</td>\n",
       "      <td>5</td>\n",
       "      <td>55480</td>\n",
       "      <td>1</td>\n",
       "      <td>0</td>\n",
       "      <td>0</td>\n",
       "      <td>...</td>\n",
       "      <td>1</td>\n",
       "      <td>0</td>\n",
       "      <td>0</td>\n",
       "      <td>0</td>\n",
       "      <td>0</td>\n",
       "      <td>1</td>\n",
       "      <td>0</td>\n",
       "      <td>0</td>\n",
       "      <td>0</td>\n",
       "      <td>0</td>\n",
       "    </tr>\n",
       "    <tr>\n",
       "      <th>1</th>\n",
       "      <td>10.0</td>\n",
       "      <td>160</td>\n",
       "      <td>270</td>\n",
       "      <td>167</td>\n",
       "      <td>250.0</td>\n",
       "      <td>5</td>\n",
       "      <td>30000</td>\n",
       "      <td>0</td>\n",
       "      <td>0</td>\n",
       "      <td>1</td>\n",
       "      <td>...</td>\n",
       "      <td>0</td>\n",
       "      <td>0</td>\n",
       "      <td>0</td>\n",
       "      <td>0</td>\n",
       "      <td>1</td>\n",
       "      <td>0</td>\n",
       "      <td>0</td>\n",
       "      <td>0</td>\n",
       "      <td>0</td>\n",
       "      <td>0</td>\n",
       "    </tr>\n",
       "    <tr>\n",
       "      <th>2</th>\n",
       "      <td>4.7</td>\n",
       "      <td>210</td>\n",
       "      <td>400</td>\n",
       "      <td>181</td>\n",
       "      <td>620.0</td>\n",
       "      <td>5</td>\n",
       "      <td>56440</td>\n",
       "      <td>1</td>\n",
       "      <td>0</td>\n",
       "      <td>0</td>\n",
       "      <td>...</td>\n",
       "      <td>0</td>\n",
       "      <td>0</td>\n",
       "      <td>0</td>\n",
       "      <td>0</td>\n",
       "      <td>0</td>\n",
       "      <td>1</td>\n",
       "      <td>0</td>\n",
       "      <td>0</td>\n",
       "      <td>0</td>\n",
       "      <td>0</td>\n",
       "    </tr>\n",
       "    <tr>\n",
       "      <th>3</th>\n",
       "      <td>6.8</td>\n",
       "      <td>180</td>\n",
       "      <td>360</td>\n",
       "      <td>206</td>\n",
       "      <td>560.0</td>\n",
       "      <td>5</td>\n",
       "      <td>68040</td>\n",
       "      <td>0</td>\n",
       "      <td>0</td>\n",
       "      <td>1</td>\n",
       "      <td>...</td>\n",
       "      <td>0</td>\n",
       "      <td>0</td>\n",
       "      <td>0</td>\n",
       "      <td>0</td>\n",
       "      <td>0</td>\n",
       "      <td>1</td>\n",
       "      <td>0</td>\n",
       "      <td>0</td>\n",
       "      <td>0</td>\n",
       "      <td>0</td>\n",
       "    </tr>\n",
       "    <tr>\n",
       "      <th>4</th>\n",
       "      <td>9.5</td>\n",
       "      <td>145</td>\n",
       "      <td>170</td>\n",
       "      <td>168</td>\n",
       "      <td>190.0</td>\n",
       "      <td>4</td>\n",
       "      <td>32997</td>\n",
       "      <td>0</td>\n",
       "      <td>0</td>\n",
       "      <td>1</td>\n",
       "      <td>...</td>\n",
       "      <td>0</td>\n",
       "      <td>0</td>\n",
       "      <td>0</td>\n",
       "      <td>1</td>\n",
       "      <td>0</td>\n",
       "      <td>0</td>\n",
       "      <td>0</td>\n",
       "      <td>0</td>\n",
       "      <td>0</td>\n",
       "      <td>0</td>\n",
       "    </tr>\n",
       "    <tr>\n",
       "      <th>...</th>\n",
       "      <td>...</td>\n",
       "      <td>...</td>\n",
       "      <td>...</td>\n",
       "      <td>...</td>\n",
       "      <td>...</td>\n",
       "      <td>...</td>\n",
       "      <td>...</td>\n",
       "      <td>...</td>\n",
       "      <td>...</td>\n",
       "      <td>...</td>\n",
       "      <td>...</td>\n",
       "      <td>...</td>\n",
       "      <td>...</td>\n",
       "      <td>...</td>\n",
       "      <td>...</td>\n",
       "      <td>...</td>\n",
       "      <td>...</td>\n",
       "      <td>...</td>\n",
       "      <td>...</td>\n",
       "      <td>...</td>\n",
       "      <td>...</td>\n",
       "    </tr>\n",
       "    <tr>\n",
       "      <th>98</th>\n",
       "      <td>7.5</td>\n",
       "      <td>160</td>\n",
       "      <td>330</td>\n",
       "      <td>191</td>\n",
       "      <td>440.0</td>\n",
       "      <td>5</td>\n",
       "      <td>45000</td>\n",
       "      <td>0</td>\n",
       "      <td>1</td>\n",
       "      <td>0</td>\n",
       "      <td>...</td>\n",
       "      <td>0</td>\n",
       "      <td>0</td>\n",
       "      <td>0</td>\n",
       "      <td>0</td>\n",
       "      <td>1</td>\n",
       "      <td>0</td>\n",
       "      <td>0</td>\n",
       "      <td>0</td>\n",
       "      <td>0</td>\n",
       "      <td>0</td>\n",
       "    </tr>\n",
       "    <tr>\n",
       "      <th>99</th>\n",
       "      <td>4.5</td>\n",
       "      <td>210</td>\n",
       "      <td>335</td>\n",
       "      <td>258</td>\n",
       "      <td>540.0</td>\n",
       "      <td>5</td>\n",
       "      <td>96050</td>\n",
       "      <td>1</td>\n",
       "      <td>0</td>\n",
       "      <td>0</td>\n",
       "      <td>...</td>\n",
       "      <td>0</td>\n",
       "      <td>0</td>\n",
       "      <td>0</td>\n",
       "      <td>0</td>\n",
       "      <td>0</td>\n",
       "      <td>0</td>\n",
       "      <td>1</td>\n",
       "      <td>0</td>\n",
       "      <td>0</td>\n",
       "      <td>0</td>\n",
       "    </tr>\n",
       "    <tr>\n",
       "      <th>100</th>\n",
       "      <td>5.9</td>\n",
       "      <td>200</td>\n",
       "      <td>325</td>\n",
       "      <td>194</td>\n",
       "      <td>440.0</td>\n",
       "      <td>5</td>\n",
       "      <td>50000</td>\n",
       "      <td>1</td>\n",
       "      <td>0</td>\n",
       "      <td>0</td>\n",
       "      <td>...</td>\n",
       "      <td>0</td>\n",
       "      <td>0</td>\n",
       "      <td>0</td>\n",
       "      <td>0</td>\n",
       "      <td>1</td>\n",
       "      <td>0</td>\n",
       "      <td>0</td>\n",
       "      <td>0</td>\n",
       "      <td>0</td>\n",
       "      <td>0</td>\n",
       "    </tr>\n",
       "    <tr>\n",
       "      <th>101</th>\n",
       "      <td>5.1</td>\n",
       "      <td>200</td>\n",
       "      <td>375</td>\n",
       "      <td>232</td>\n",
       "      <td>450.0</td>\n",
       "      <td>5</td>\n",
       "      <td>65000</td>\n",
       "      <td>1</td>\n",
       "      <td>0</td>\n",
       "      <td>0</td>\n",
       "      <td>...</td>\n",
       "      <td>0</td>\n",
       "      <td>0</td>\n",
       "      <td>0</td>\n",
       "      <td>0</td>\n",
       "      <td>1</td>\n",
       "      <td>0</td>\n",
       "      <td>0</td>\n",
       "      <td>0</td>\n",
       "      <td>0</td>\n",
       "      <td>0</td>\n",
       "    </tr>\n",
       "    <tr>\n",
       "      <th>102</th>\n",
       "      <td>7.5</td>\n",
       "      <td>190</td>\n",
       "      <td>400</td>\n",
       "      <td>238</td>\n",
       "      <td>480.0</td>\n",
       "      <td>5</td>\n",
       "      <td>62000</td>\n",
       "      <td>1</td>\n",
       "      <td>0</td>\n",
       "      <td>0</td>\n",
       "      <td>...</td>\n",
       "      <td>0</td>\n",
       "      <td>0</td>\n",
       "      <td>0</td>\n",
       "      <td>0</td>\n",
       "      <td>0</td>\n",
       "      <td>0</td>\n",
       "      <td>1</td>\n",
       "      <td>0</td>\n",
       "      <td>0</td>\n",
       "      <td>0</td>\n",
       "    </tr>\n",
       "  </tbody>\n",
       "</table>\n",
       "<p>103 rows × 27 columns</p>\n",
       "</div>"
      ],
      "text/plain": [
       "     Accel  TopSpeed  Range  Efficiency  FastCharge  Seats  PriceEuro  \\\n",
       "0      4.6       233    450         161       940.0      5      55480   \n",
       "1     10.0       160    270         167       250.0      5      30000   \n",
       "2      4.7       210    400         181       620.0      5      56440   \n",
       "3      6.8       180    360         206       560.0      5      68040   \n",
       "4      9.5       145    170         168       190.0      4      32997   \n",
       "..     ...       ...    ...         ...         ...    ...        ...   \n",
       "98     7.5       160    330         191       440.0      5      45000   \n",
       "99     4.5       210    335         258       540.0      5      96050   \n",
       "100    5.9       200    325         194       440.0      5      50000   \n",
       "101    5.1       200    375         232       450.0      5      65000   \n",
       "102    7.5       190    400         238       480.0      5      62000   \n",
       "\n",
       "     PowerTrain_All Wheel Drive  PowerTrain_Front Wheel Drive  \\\n",
       "0                             1                             0   \n",
       "1                             0                             0   \n",
       "2                             1                             0   \n",
       "3                             0                             0   \n",
       "4                             0                             0   \n",
       "..                          ...                           ...   \n",
       "98                            0                             1   \n",
       "99                            1                             0   \n",
       "100                           1                             0   \n",
       "101                           1                             0   \n",
       "102                           1                             0   \n",
       "\n",
       "     PowerTrain_Rear Wheel Drive  ...  BodyStyle_Sedan  BodyStyle_Station  \\\n",
       "0                              0  ...                1                  0   \n",
       "1                              1  ...                0                  0   \n",
       "2                              0  ...                0                  0   \n",
       "3                              1  ...                0                  0   \n",
       "4                              1  ...                0                  0   \n",
       "..                           ...  ...              ...                ...   \n",
       "98                             0  ...                0                  0   \n",
       "99                             0  ...                0                  0   \n",
       "100                            0  ...                0                  0   \n",
       "101                            0  ...                0                  0   \n",
       "102                            0  ...                0                  0   \n",
       "\n",
       "     Segment_A  Segment_B  Segment_C  Segment_D  Segment_E  Segment_F  \\\n",
       "0            0          0          0          1          0          0   \n",
       "1            0          0          1          0          0          0   \n",
       "2            0          0          0          1          0          0   \n",
       "3            0          0          0          1          0          0   \n",
       "4            0          1          0          0          0          0   \n",
       "..         ...        ...        ...        ...        ...        ...   \n",
       "98           0          0          1          0          0          0   \n",
       "99           0          0          0          0          1          0   \n",
       "100          0          0          1          0          0          0   \n",
       "101          0          0          1          0          0          0   \n",
       "102          0          0          0          0          1          0   \n",
       "\n",
       "     Segment_N  Segment_S  \n",
       "0            0          0  \n",
       "1            0          0  \n",
       "2            0          0  \n",
       "3            0          0  \n",
       "4            0          0  \n",
       "..         ...        ...  \n",
       "98           0          0  \n",
       "99           0          0  \n",
       "100          0          0  \n",
       "101          0          0  \n",
       "102          0          0  \n",
       "\n",
       "[103 rows x 27 columns]"
      ]
     },
     "execution_count": 38,
     "metadata": {},
     "output_type": "execute_result"
    }
   ],
   "source": [
    "df1 = pd.get_dummies(df1)\n",
    "df1"
   ]
  },
  {
   "cell_type": "code",
   "execution_count": 40,
   "metadata": {
    "execution": {
     "iopub.execute_input": "2022-08-01T15:35:20.012872Z",
     "iopub.status.busy": "2022-08-01T15:35:20.012452Z",
     "iopub.status.idle": "2022-08-01T15:35:20.018685Z",
     "shell.execute_reply": "2022-08-01T15:35:20.017766Z",
     "shell.execute_reply.started": "2022-08-01T15:35:20.012822Z"
    }
   },
   "outputs": [],
   "source": [
    "df1=df1.astype(float)"
   ]
  },
  {
   "cell_type": "code",
   "execution_count": 41,
   "metadata": {
    "execution": {
     "iopub.execute_input": "2022-08-01T15:35:37.679398Z",
     "iopub.status.busy": "2022-08-01T15:35:37.678986Z",
     "iopub.status.idle": "2022-08-01T15:35:37.693306Z",
     "shell.execute_reply": "2022-08-01T15:35:37.692209Z",
     "shell.execute_reply.started": "2022-08-01T15:35:37.679362Z"
    }
   },
   "outputs": [],
   "source": [
    "cols_to_norm = ['Accel','TopSpeed','Range','Efficiency','FastCharge','PriceEuro']\n",
    "df_prev=df1.copy()\n",
    "df1[cols_to_norm] = df1[cols_to_norm].apply(lambda x: (x - x.min()) / (x.max() - x.min()))"
   ]
  },
  {
   "cell_type": "code",
   "execution_count": 42,
   "metadata": {
    "execution": {
     "iopub.execute_input": "2022-08-01T15:35:45.011489Z",
     "iopub.status.busy": "2022-08-01T15:35:45.011120Z",
     "iopub.status.idle": "2022-08-01T15:35:45.053735Z",
     "shell.execute_reply": "2022-08-01T15:35:45.052598Z",
     "shell.execute_reply.started": "2022-08-01T15:35:45.011459Z"
    }
   },
   "outputs": [
    {
     "data": {
      "text/html": [
       "<div>\n",
       "<style scoped>\n",
       "    .dataframe tbody tr th:only-of-type {\n",
       "        vertical-align: middle;\n",
       "    }\n",
       "\n",
       "    .dataframe tbody tr th {\n",
       "        vertical-align: top;\n",
       "    }\n",
       "\n",
       "    .dataframe thead th {\n",
       "        text-align: right;\n",
       "    }\n",
       "</style>\n",
       "<table border=\"1\" class=\"dataframe\">\n",
       "  <thead>\n",
       "    <tr style=\"text-align: right;\">\n",
       "      <th></th>\n",
       "      <th>Accel</th>\n",
       "      <th>TopSpeed</th>\n",
       "      <th>Range</th>\n",
       "      <th>Efficiency</th>\n",
       "      <th>FastCharge</th>\n",
       "      <th>Seats</th>\n",
       "      <th>PriceEuro</th>\n",
       "      <th>PowerTrain_All Wheel Drive</th>\n",
       "      <th>PowerTrain_Front Wheel Drive</th>\n",
       "      <th>PowerTrain_Rear Wheel Drive</th>\n",
       "      <th>...</th>\n",
       "      <th>BodyStyle_Sedan</th>\n",
       "      <th>BodyStyle_Station</th>\n",
       "      <th>Segment_A</th>\n",
       "      <th>Segment_B</th>\n",
       "      <th>Segment_C</th>\n",
       "      <th>Segment_D</th>\n",
       "      <th>Segment_E</th>\n",
       "      <th>Segment_F</th>\n",
       "      <th>Segment_N</th>\n",
       "      <th>Segment_S</th>\n",
       "    </tr>\n",
       "  </thead>\n",
       "  <tbody>\n",
       "    <tr>\n",
       "      <th>0</th>\n",
       "      <td>0.123153</td>\n",
       "      <td>0.383275</td>\n",
       "      <td>0.405714</td>\n",
       "      <td>0.337278</td>\n",
       "      <td>1.000000</td>\n",
       "      <td>5.0</td>\n",
       "      <td>0.181407</td>\n",
       "      <td>1.0</td>\n",
       "      <td>0.0</td>\n",
       "      <td>0.0</td>\n",
       "      <td>...</td>\n",
       "      <td>1.0</td>\n",
       "      <td>0.0</td>\n",
       "      <td>0.0</td>\n",
       "      <td>0.0</td>\n",
       "      <td>0.0</td>\n",
       "      <td>1.0</td>\n",
       "      <td>0.0</td>\n",
       "      <td>0.0</td>\n",
       "      <td>0.0</td>\n",
       "      <td>0.0</td>\n",
       "    </tr>\n",
       "    <tr>\n",
       "      <th>1</th>\n",
       "      <td>0.389163</td>\n",
       "      <td>0.128920</td>\n",
       "      <td>0.200000</td>\n",
       "      <td>0.372781</td>\n",
       "      <td>0.103896</td>\n",
       "      <td>5.0</td>\n",
       "      <td>0.050654</td>\n",
       "      <td>0.0</td>\n",
       "      <td>0.0</td>\n",
       "      <td>1.0</td>\n",
       "      <td>...</td>\n",
       "      <td>0.0</td>\n",
       "      <td>0.0</td>\n",
       "      <td>0.0</td>\n",
       "      <td>0.0</td>\n",
       "      <td>1.0</td>\n",
       "      <td>0.0</td>\n",
       "      <td>0.0</td>\n",
       "      <td>0.0</td>\n",
       "      <td>0.0</td>\n",
       "      <td>0.0</td>\n",
       "    </tr>\n",
       "    <tr>\n",
       "      <th>2</th>\n",
       "      <td>0.128079</td>\n",
       "      <td>0.303136</td>\n",
       "      <td>0.348571</td>\n",
       "      <td>0.455621</td>\n",
       "      <td>0.584416</td>\n",
       "      <td>5.0</td>\n",
       "      <td>0.186334</td>\n",
       "      <td>1.0</td>\n",
       "      <td>0.0</td>\n",
       "      <td>0.0</td>\n",
       "      <td>...</td>\n",
       "      <td>0.0</td>\n",
       "      <td>0.0</td>\n",
       "      <td>0.0</td>\n",
       "      <td>0.0</td>\n",
       "      <td>0.0</td>\n",
       "      <td>1.0</td>\n",
       "      <td>0.0</td>\n",
       "      <td>0.0</td>\n",
       "      <td>0.0</td>\n",
       "      <td>0.0</td>\n",
       "    </tr>\n",
       "    <tr>\n",
       "      <th>3</th>\n",
       "      <td>0.231527</td>\n",
       "      <td>0.198606</td>\n",
       "      <td>0.302857</td>\n",
       "      <td>0.603550</td>\n",
       "      <td>0.506494</td>\n",
       "      <td>5.0</td>\n",
       "      <td>0.245860</td>\n",
       "      <td>0.0</td>\n",
       "      <td>0.0</td>\n",
       "      <td>1.0</td>\n",
       "      <td>...</td>\n",
       "      <td>0.0</td>\n",
       "      <td>0.0</td>\n",
       "      <td>0.0</td>\n",
       "      <td>0.0</td>\n",
       "      <td>0.0</td>\n",
       "      <td>1.0</td>\n",
       "      <td>0.0</td>\n",
       "      <td>0.0</td>\n",
       "      <td>0.0</td>\n",
       "      <td>0.0</td>\n",
       "    </tr>\n",
       "    <tr>\n",
       "      <th>4</th>\n",
       "      <td>0.364532</td>\n",
       "      <td>0.076655</td>\n",
       "      <td>0.085714</td>\n",
       "      <td>0.378698</td>\n",
       "      <td>0.025974</td>\n",
       "      <td>4.0</td>\n",
       "      <td>0.066033</td>\n",
       "      <td>0.0</td>\n",
       "      <td>0.0</td>\n",
       "      <td>1.0</td>\n",
       "      <td>...</td>\n",
       "      <td>0.0</td>\n",
       "      <td>0.0</td>\n",
       "      <td>0.0</td>\n",
       "      <td>1.0</td>\n",
       "      <td>0.0</td>\n",
       "      <td>0.0</td>\n",
       "      <td>0.0</td>\n",
       "      <td>0.0</td>\n",
       "      <td>0.0</td>\n",
       "      <td>0.0</td>\n",
       "    </tr>\n",
       "    <tr>\n",
       "      <th>...</th>\n",
       "      <td>...</td>\n",
       "      <td>...</td>\n",
       "      <td>...</td>\n",
       "      <td>...</td>\n",
       "      <td>...</td>\n",
       "      <td>...</td>\n",
       "      <td>...</td>\n",
       "      <td>...</td>\n",
       "      <td>...</td>\n",
       "      <td>...</td>\n",
       "      <td>...</td>\n",
       "      <td>...</td>\n",
       "      <td>...</td>\n",
       "      <td>...</td>\n",
       "      <td>...</td>\n",
       "      <td>...</td>\n",
       "      <td>...</td>\n",
       "      <td>...</td>\n",
       "      <td>...</td>\n",
       "      <td>...</td>\n",
       "      <td>...</td>\n",
       "    </tr>\n",
       "    <tr>\n",
       "      <th>98</th>\n",
       "      <td>0.266010</td>\n",
       "      <td>0.128920</td>\n",
       "      <td>0.268571</td>\n",
       "      <td>0.514793</td>\n",
       "      <td>0.350649</td>\n",
       "      <td>5.0</td>\n",
       "      <td>0.127628</td>\n",
       "      <td>0.0</td>\n",
       "      <td>1.0</td>\n",
       "      <td>0.0</td>\n",
       "      <td>...</td>\n",
       "      <td>0.0</td>\n",
       "      <td>0.0</td>\n",
       "      <td>0.0</td>\n",
       "      <td>0.0</td>\n",
       "      <td>1.0</td>\n",
       "      <td>0.0</td>\n",
       "      <td>0.0</td>\n",
       "      <td>0.0</td>\n",
       "      <td>0.0</td>\n",
       "      <td>0.0</td>\n",
       "    </tr>\n",
       "    <tr>\n",
       "      <th>99</th>\n",
       "      <td>0.118227</td>\n",
       "      <td>0.303136</td>\n",
       "      <td>0.274286</td>\n",
       "      <td>0.911243</td>\n",
       "      <td>0.480519</td>\n",
       "      <td>5.0</td>\n",
       "      <td>0.389596</td>\n",
       "      <td>1.0</td>\n",
       "      <td>0.0</td>\n",
       "      <td>0.0</td>\n",
       "      <td>...</td>\n",
       "      <td>0.0</td>\n",
       "      <td>0.0</td>\n",
       "      <td>0.0</td>\n",
       "      <td>0.0</td>\n",
       "      <td>0.0</td>\n",
       "      <td>0.0</td>\n",
       "      <td>1.0</td>\n",
       "      <td>0.0</td>\n",
       "      <td>0.0</td>\n",
       "      <td>0.0</td>\n",
       "    </tr>\n",
       "    <tr>\n",
       "      <th>100</th>\n",
       "      <td>0.187192</td>\n",
       "      <td>0.268293</td>\n",
       "      <td>0.262857</td>\n",
       "      <td>0.532544</td>\n",
       "      <td>0.350649</td>\n",
       "      <td>5.0</td>\n",
       "      <td>0.153286</td>\n",
       "      <td>1.0</td>\n",
       "      <td>0.0</td>\n",
       "      <td>0.0</td>\n",
       "      <td>...</td>\n",
       "      <td>0.0</td>\n",
       "      <td>0.0</td>\n",
       "      <td>0.0</td>\n",
       "      <td>0.0</td>\n",
       "      <td>1.0</td>\n",
       "      <td>0.0</td>\n",
       "      <td>0.0</td>\n",
       "      <td>0.0</td>\n",
       "      <td>0.0</td>\n",
       "      <td>0.0</td>\n",
       "    </tr>\n",
       "    <tr>\n",
       "      <th>101</th>\n",
       "      <td>0.147783</td>\n",
       "      <td>0.268293</td>\n",
       "      <td>0.320000</td>\n",
       "      <td>0.757396</td>\n",
       "      <td>0.363636</td>\n",
       "      <td>5.0</td>\n",
       "      <td>0.230260</td>\n",
       "      <td>1.0</td>\n",
       "      <td>0.0</td>\n",
       "      <td>0.0</td>\n",
       "      <td>...</td>\n",
       "      <td>0.0</td>\n",
       "      <td>0.0</td>\n",
       "      <td>0.0</td>\n",
       "      <td>0.0</td>\n",
       "      <td>1.0</td>\n",
       "      <td>0.0</td>\n",
       "      <td>0.0</td>\n",
       "      <td>0.0</td>\n",
       "      <td>0.0</td>\n",
       "      <td>0.0</td>\n",
       "    </tr>\n",
       "    <tr>\n",
       "      <th>102</th>\n",
       "      <td>0.266010</td>\n",
       "      <td>0.233449</td>\n",
       "      <td>0.348571</td>\n",
       "      <td>0.792899</td>\n",
       "      <td>0.402597</td>\n",
       "      <td>5.0</td>\n",
       "      <td>0.214865</td>\n",
       "      <td>1.0</td>\n",
       "      <td>0.0</td>\n",
       "      <td>0.0</td>\n",
       "      <td>...</td>\n",
       "      <td>0.0</td>\n",
       "      <td>0.0</td>\n",
       "      <td>0.0</td>\n",
       "      <td>0.0</td>\n",
       "      <td>0.0</td>\n",
       "      <td>0.0</td>\n",
       "      <td>1.0</td>\n",
       "      <td>0.0</td>\n",
       "      <td>0.0</td>\n",
       "      <td>0.0</td>\n",
       "    </tr>\n",
       "  </tbody>\n",
       "</table>\n",
       "<p>103 rows × 27 columns</p>\n",
       "</div>"
      ],
      "text/plain": [
       "        Accel  TopSpeed     Range  Efficiency  FastCharge  Seats  PriceEuro  \\\n",
       "0    0.123153  0.383275  0.405714    0.337278    1.000000    5.0   0.181407   \n",
       "1    0.389163  0.128920  0.200000    0.372781    0.103896    5.0   0.050654   \n",
       "2    0.128079  0.303136  0.348571    0.455621    0.584416    5.0   0.186334   \n",
       "3    0.231527  0.198606  0.302857    0.603550    0.506494    5.0   0.245860   \n",
       "4    0.364532  0.076655  0.085714    0.378698    0.025974    4.0   0.066033   \n",
       "..        ...       ...       ...         ...         ...    ...        ...   \n",
       "98   0.266010  0.128920  0.268571    0.514793    0.350649    5.0   0.127628   \n",
       "99   0.118227  0.303136  0.274286    0.911243    0.480519    5.0   0.389596   \n",
       "100  0.187192  0.268293  0.262857    0.532544    0.350649    5.0   0.153286   \n",
       "101  0.147783  0.268293  0.320000    0.757396    0.363636    5.0   0.230260   \n",
       "102  0.266010  0.233449  0.348571    0.792899    0.402597    5.0   0.214865   \n",
       "\n",
       "     PowerTrain_All Wheel Drive  PowerTrain_Front Wheel Drive  \\\n",
       "0                           1.0                           0.0   \n",
       "1                           0.0                           0.0   \n",
       "2                           1.0                           0.0   \n",
       "3                           0.0                           0.0   \n",
       "4                           0.0                           0.0   \n",
       "..                          ...                           ...   \n",
       "98                          0.0                           1.0   \n",
       "99                          1.0                           0.0   \n",
       "100                         1.0                           0.0   \n",
       "101                         1.0                           0.0   \n",
       "102                         1.0                           0.0   \n",
       "\n",
       "     PowerTrain_Rear Wheel Drive  ...  BodyStyle_Sedan  BodyStyle_Station  \\\n",
       "0                            0.0  ...              1.0                0.0   \n",
       "1                            1.0  ...              0.0                0.0   \n",
       "2                            0.0  ...              0.0                0.0   \n",
       "3                            1.0  ...              0.0                0.0   \n",
       "4                            1.0  ...              0.0                0.0   \n",
       "..                           ...  ...              ...                ...   \n",
       "98                           0.0  ...              0.0                0.0   \n",
       "99                           0.0  ...              0.0                0.0   \n",
       "100                          0.0  ...              0.0                0.0   \n",
       "101                          0.0  ...              0.0                0.0   \n",
       "102                          0.0  ...              0.0                0.0   \n",
       "\n",
       "     Segment_A  Segment_B  Segment_C  Segment_D  Segment_E  Segment_F  \\\n",
       "0          0.0        0.0        0.0        1.0        0.0        0.0   \n",
       "1          0.0        0.0        1.0        0.0        0.0        0.0   \n",
       "2          0.0        0.0        0.0        1.0        0.0        0.0   \n",
       "3          0.0        0.0        0.0        1.0        0.0        0.0   \n",
       "4          0.0        1.0        0.0        0.0        0.0        0.0   \n",
       "..         ...        ...        ...        ...        ...        ...   \n",
       "98         0.0        0.0        1.0        0.0        0.0        0.0   \n",
       "99         0.0        0.0        0.0        0.0        1.0        0.0   \n",
       "100        0.0        0.0        1.0        0.0        0.0        0.0   \n",
       "101        0.0        0.0        1.0        0.0        0.0        0.0   \n",
       "102        0.0        0.0        0.0        0.0        1.0        0.0   \n",
       "\n",
       "     Segment_N  Segment_S  \n",
       "0          0.0        0.0  \n",
       "1          0.0        0.0  \n",
       "2          0.0        0.0  \n",
       "3          0.0        0.0  \n",
       "4          0.0        0.0  \n",
       "..         ...        ...  \n",
       "98         0.0        0.0  \n",
       "99         0.0        0.0  \n",
       "100        0.0        0.0  \n",
       "101        0.0        0.0  \n",
       "102        0.0        0.0  \n",
       "\n",
       "[103 rows x 27 columns]"
      ]
     },
     "execution_count": 42,
     "metadata": {},
     "output_type": "execute_result"
    }
   ],
   "source": [
    "df1"
   ]
  },
  {
   "cell_type": "code",
   "execution_count": 43,
   "metadata": {
    "execution": {
     "iopub.execute_input": "2022-08-01T15:35:57.244439Z",
     "iopub.status.busy": "2022-08-01T15:35:57.244046Z",
     "iopub.status.idle": "2022-08-01T15:35:57.514825Z",
     "shell.execute_reply": "2022-08-01T15:35:57.513712Z",
     "shell.execute_reply.started": "2022-08-01T15:35:57.244407Z"
    }
   },
   "outputs": [],
   "source": [
    "from sklearn.cluster import KMeans"
   ]
  },
  {
   "cell_type": "code",
   "execution_count": 44,
   "metadata": {
    "execution": {
     "iopub.execute_input": "2022-08-01T15:36:09.065524Z",
     "iopub.status.busy": "2022-08-01T15:36:09.065141Z",
     "iopub.status.idle": "2022-08-01T15:36:11.326694Z",
     "shell.execute_reply": "2022-08-01T15:36:11.325058Z",
     "shell.execute_reply.started": "2022-08-01T15:36:09.065492Z"
    }
   },
   "outputs": [
    {
     "data": {
      "text/plain": [
       "Text(0, 0.5, 'evs')"
      ]
     },
     "execution_count": 44,
     "metadata": {},
     "output_type": "execute_result"
    },
    {
     "data": {
      "image/png": "[encoded data removed]",
      "text/plain": [
       "<Figure size 432x288 with 1 Axes>"
      ]
     },
     "metadata": {
      "needs_background": "light"
     },
     "output_type": "display_data"
    }
   ],
   "source": [
    "evs=[]\n",
    "for i in range(1,10):\n",
    "    kmeans = KMeans(i)\n",
    "    kmeans.fit(df1)\n",
    "    evs_iter = kmeans.inertia_\n",
    "    evs.append(evs_iter)\n",
    "\n",
    "number_clusters = range(1,10)\n",
    "plt.plot(number_clusters,evs)\n",
    "plt.title('The Elbow title')\n",
    "plt.xlabel('Number of clusters')\n",
    "plt.ylabel('evs')"
   ]
  },
  {
   "cell_type": "code",
   "execution_count": 45,
   "metadata": {
    "execution": {
     "iopub.execute_input": "2022-08-01T15:36:22.330171Z",
     "iopub.status.busy": "2022-08-01T15:36:22.329725Z",
     "iopub.status.idle": "2022-08-01T15:36:22.368431Z",
     "shell.execute_reply": "2022-08-01T15:36:22.367462Z",
     "shell.execute_reply.started": "2022-08-01T15:36:22.330134Z"
    }
   },
   "outputs": [
    {
     "data": {
      "text/plain": [
       "KMeans(n_clusters=5)"
      ]
     },
     "execution_count": 45,
     "metadata": {},
     "output_type": "execute_result"
    }
   ],
   "source": [
    "kmeanModel = KMeans(n_clusters=5)\n",
    "kmeanModel.fit(df1)"
   ]
  },
  {
   "cell_type": "code",
   "execution_count": 46,
   "metadata": {
    "execution": {
     "iopub.execute_input": "2022-08-01T15:36:33.785375Z",
     "iopub.status.busy": "2022-08-01T15:36:33.784980Z",
     "iopub.status.idle": "2022-08-01T15:36:33.822298Z",
     "shell.execute_reply": "2022-08-01T15:36:33.820973Z",
     "shell.execute_reply.started": "2022-08-01T15:36:33.785345Z"
    }
   },
   "outputs": [
    {
     "data": {
      "text/plain": [
       "array([4, 2, 4, 1, 3, 4, 2, 0, 4, 1, 1, 2, 0, 4, 2, 3, 4, 3, 0, 3, 0, 1,\n",
       "       2, 4, 4, 2, 2, 1, 3, 0, 1, 0, 0, 1, 0, 2, 0, 3, 0, 1, 4, 0, 1, 3,\n",
       "       3, 0, 0, 4, 4, 0, 1, 4, 0, 2, 1, 3, 0, 3, 0, 4, 0, 1, 2, 1, 1, 4,\n",
       "       0, 1, 0, 1, 3, 1, 4, 1, 2, 0, 1, 3, 1, 4, 2, 1, 3, 1, 0, 3, 1, 1,\n",
       "       1, 2, 1, 3, 0, 2, 0, 2, 0, 1, 2, 1, 2, 2, 1], dtype=int32)"
      ]
     },
     "execution_count": 46,
     "metadata": {},
     "output_type": "execute_result"
    }
   ],
   "source": [
    "identified_clusters = kmeanModel.fit_predict(df1)\n",
    "identified_clusters"
   ]
  },
  {
   "cell_type": "code",
   "execution_count": 47,
   "metadata": {
    "execution": {
     "iopub.execute_input": "2022-08-01T15:36:46.851505Z",
     "iopub.status.busy": "2022-08-01T15:36:46.850996Z",
     "iopub.status.idle": "2022-08-01T15:36:46.904552Z",
     "shell.execute_reply": "2022-08-01T15:36:46.902929Z",
     "shell.execute_reply.started": "2022-08-01T15:36:46.851462Z"
    }
   },
   "outputs": [
    {
     "data": {
      "text/html": [
       "<div>\n",
       "<style scoped>\n",
       "    .dataframe tbody tr th:only-of-type {\n",
       "        vertical-align: middle;\n",
       "    }\n",
       "\n",
       "    .dataframe tbody tr th {\n",
       "        vertical-align: top;\n",
       "    }\n",
       "\n",
       "    .dataframe thead th {\n",
       "        text-align: right;\n",
       "    }\n",
       "</style>\n",
       "<table border=\"1\" class=\"dataframe\">\n",
       "  <thead>\n",
       "    <tr style=\"text-align: right;\">\n",
       "      <th></th>\n",
       "      <th>Accel</th>\n",
       "      <th>TopSpeed</th>\n",
       "      <th>Range</th>\n",
       "      <th>Efficiency</th>\n",
       "      <th>FastCharge</th>\n",
       "      <th>Seats</th>\n",
       "      <th>PriceEuro</th>\n",
       "      <th>PowerTrain_All Wheel Drive</th>\n",
       "      <th>PowerTrain_Front Wheel Drive</th>\n",
       "      <th>PowerTrain_Rear Wheel Drive</th>\n",
       "      <th>...</th>\n",
       "      <th>BodyStyle_Station</th>\n",
       "      <th>Segment_A</th>\n",
       "      <th>Segment_B</th>\n",
       "      <th>Segment_C</th>\n",
       "      <th>Segment_D</th>\n",
       "      <th>Segment_E</th>\n",
       "      <th>Segment_F</th>\n",
       "      <th>Segment_N</th>\n",
       "      <th>Segment_S</th>\n",
       "      <th>Clusters</th>\n",
       "    </tr>\n",
       "  </thead>\n",
       "  <tbody>\n",
       "    <tr>\n",
       "      <th>0</th>\n",
       "      <td>4.6</td>\n",
       "      <td>233.0</td>\n",
       "      <td>450.0</td>\n",
       "      <td>161.0</td>\n",
       "      <td>940.0</td>\n",
       "      <td>5.0</td>\n",
       "      <td>55480.0</td>\n",
       "      <td>1.0</td>\n",
       "      <td>0.0</td>\n",
       "      <td>0.0</td>\n",
       "      <td>...</td>\n",
       "      <td>0.0</td>\n",
       "      <td>0.0</td>\n",
       "      <td>0.0</td>\n",
       "      <td>0.0</td>\n",
       "      <td>1.0</td>\n",
       "      <td>0.0</td>\n",
       "      <td>0.0</td>\n",
       "      <td>0.0</td>\n",
       "      <td>0.0</td>\n",
       "      <td>4</td>\n",
       "    </tr>\n",
       "    <tr>\n",
       "      <th>1</th>\n",
       "      <td>10.0</td>\n",
       "      <td>160.0</td>\n",
       "      <td>270.0</td>\n",
       "      <td>167.0</td>\n",
       "      <td>250.0</td>\n",
       "      <td>5.0</td>\n",
       "      <td>30000.0</td>\n",
       "      <td>0.0</td>\n",
       "      <td>0.0</td>\n",
       "      <td>1.0</td>\n",
       "      <td>...</td>\n",
       "      <td>0.0</td>\n",
       "      <td>0.0</td>\n",
       "      <td>0.0</td>\n",
       "      <td>1.0</td>\n",
       "      <td>0.0</td>\n",
       "      <td>0.0</td>\n",
       "      <td>0.0</td>\n",
       "      <td>0.0</td>\n",
       "      <td>0.0</td>\n",
       "      <td>2</td>\n",
       "    </tr>\n",
       "    <tr>\n",
       "      <th>2</th>\n",
       "      <td>4.7</td>\n",
       "      <td>210.0</td>\n",
       "      <td>400.0</td>\n",
       "      <td>181.0</td>\n",
       "      <td>620.0</td>\n",
       "      <td>5.0</td>\n",
       "      <td>56440.0</td>\n",
       "      <td>1.0</td>\n",
       "      <td>0.0</td>\n",
       "      <td>0.0</td>\n",
       "      <td>...</td>\n",
       "      <td>0.0</td>\n",
       "      <td>0.0</td>\n",
       "      <td>0.0</td>\n",
       "      <td>0.0</td>\n",
       "      <td>1.0</td>\n",
       "      <td>0.0</td>\n",
       "      <td>0.0</td>\n",
       "      <td>0.0</td>\n",
       "      <td>0.0</td>\n",
       "      <td>4</td>\n",
       "    </tr>\n",
       "    <tr>\n",
       "      <th>3</th>\n",
       "      <td>6.8</td>\n",
       "      <td>180.0</td>\n",
       "      <td>360.0</td>\n",
       "      <td>206.0</td>\n",
       "      <td>560.0</td>\n",
       "      <td>5.0</td>\n",
       "      <td>68040.0</td>\n",
       "      <td>0.0</td>\n",
       "      <td>0.0</td>\n",
       "      <td>1.0</td>\n",
       "      <td>...</td>\n",
       "      <td>0.0</td>\n",
       "      <td>0.0</td>\n",
       "      <td>0.0</td>\n",
       "      <td>0.0</td>\n",
       "      <td>1.0</td>\n",
       "      <td>0.0</td>\n",
       "      <td>0.0</td>\n",
       "      <td>0.0</td>\n",
       "      <td>0.0</td>\n",
       "      <td>1</td>\n",
       "    </tr>\n",
       "    <tr>\n",
       "      <th>4</th>\n",
       "      <td>9.5</td>\n",
       "      <td>145.0</td>\n",
       "      <td>170.0</td>\n",
       "      <td>168.0</td>\n",
       "      <td>190.0</td>\n",
       "      <td>4.0</td>\n",
       "      <td>32997.0</td>\n",
       "      <td>0.0</td>\n",
       "      <td>0.0</td>\n",
       "      <td>1.0</td>\n",
       "      <td>...</td>\n",
       "      <td>0.0</td>\n",
       "      <td>0.0</td>\n",
       "      <td>1.0</td>\n",
       "      <td>0.0</td>\n",
       "      <td>0.0</td>\n",
       "      <td>0.0</td>\n",
       "      <td>0.0</td>\n",
       "      <td>0.0</td>\n",
       "      <td>0.0</td>\n",
       "      <td>3</td>\n",
       "    </tr>\n",
       "    <tr>\n",
       "      <th>...</th>\n",
       "      <td>...</td>\n",
       "      <td>...</td>\n",
       "      <td>...</td>\n",
       "      <td>...</td>\n",
       "      <td>...</td>\n",
       "      <td>...</td>\n",
       "      <td>...</td>\n",
       "      <td>...</td>\n",
       "      <td>...</td>\n",
       "      <td>...</td>\n",
       "      <td>...</td>\n",
       "      <td>...</td>\n",
       "      <td>...</td>\n",
       "      <td>...</td>\n",
       "      <td>...</td>\n",
       "      <td>...</td>\n",
       "      <td>...</td>\n",
       "      <td>...</td>\n",
       "      <td>...</td>\n",
       "      <td>...</td>\n",
       "      <td>...</td>\n",
       "    </tr>\n",
       "    <tr>\n",
       "      <th>98</th>\n",
       "      <td>7.5</td>\n",
       "      <td>160.0</td>\n",
       "      <td>330.0</td>\n",
       "      <td>191.0</td>\n",
       "      <td>440.0</td>\n",
       "      <td>5.0</td>\n",
       "      <td>45000.0</td>\n",
       "      <td>0.0</td>\n",
       "      <td>1.0</td>\n",
       "      <td>0.0</td>\n",
       "      <td>...</td>\n",
       "      <td>0.0</td>\n",
       "      <td>0.0</td>\n",
       "      <td>0.0</td>\n",
       "      <td>1.0</td>\n",
       "      <td>0.0</td>\n",
       "      <td>0.0</td>\n",
       "      <td>0.0</td>\n",
       "      <td>0.0</td>\n",
       "      <td>0.0</td>\n",
       "      <td>2</td>\n",
       "    </tr>\n",
       "    <tr>\n",
       "      <th>99</th>\n",
       "      <td>4.5</td>\n",
       "      <td>210.0</td>\n",
       "      <td>335.0</td>\n",
       "      <td>258.0</td>\n",
       "      <td>540.0</td>\n",
       "      <td>5.0</td>\n",
       "      <td>96050.0</td>\n",
       "      <td>1.0</td>\n",
       "      <td>0.0</td>\n",
       "      <td>0.0</td>\n",
       "      <td>...</td>\n",
       "      <td>0.0</td>\n",
       "      <td>0.0</td>\n",
       "      <td>0.0</td>\n",
       "      <td>0.0</td>\n",
       "      <td>0.0</td>\n",
       "      <td>1.0</td>\n",
       "      <td>0.0</td>\n",
       "      <td>0.0</td>\n",
       "      <td>0.0</td>\n",
       "      <td>1</td>\n",
       "    </tr>\n",
       "    <tr>\n",
       "      <th>100</th>\n",
       "      <td>5.9</td>\n",
       "      <td>200.0</td>\n",
       "      <td>325.0</td>\n",
       "      <td>194.0</td>\n",
       "      <td>440.0</td>\n",
       "      <td>5.0</td>\n",
       "      <td>50000.0</td>\n",
       "      <td>1.0</td>\n",
       "      <td>0.0</td>\n",
       "      <td>0.0</td>\n",
       "      <td>...</td>\n",
       "      <td>0.0</td>\n",
       "      <td>0.0</td>\n",
       "      <td>0.0</td>\n",
       "      <td>1.0</td>\n",
       "      <td>0.0</td>\n",
       "      <td>0.0</td>\n",
       "      <td>0.0</td>\n",
       "      <td>0.0</td>\n",
       "      <td>0.0</td>\n",
       "      <td>2</td>\n",
       "    </tr>\n",
       "    <tr>\n",
       "      <th>101</th>\n",
       "      <td>5.1</td>\n",
       "      <td>200.0</td>\n",
       "      <td>375.0</td>\n",
       "      <td>232.0</td>\n",
       "      <td>450.0</td>\n",
       "      <td>5.0</td>\n",
       "      <td>65000.0</td>\n",
       "      <td>1.0</td>\n",
       "      <td>0.0</td>\n",
       "      <td>0.0</td>\n",
       "      <td>...</td>\n",
       "      <td>0.0</td>\n",
       "      <td>0.0</td>\n",
       "      <td>0.0</td>\n",
       "      <td>1.0</td>\n",
       "      <td>0.0</td>\n",
       "      <td>0.0</td>\n",
       "      <td>0.0</td>\n",
       "      <td>0.0</td>\n",
       "      <td>0.0</td>\n",
       "      <td>2</td>\n",
       "    </tr>\n",
       "    <tr>\n",
       "      <th>102</th>\n",
       "      <td>7.5</td>\n",
       "      <td>190.0</td>\n",
       "      <td>400.0</td>\n",
       "      <td>238.0</td>\n",
       "      <td>480.0</td>\n",
       "      <td>5.0</td>\n",
       "      <td>62000.0</td>\n",
       "      <td>1.0</td>\n",
       "      <td>0.0</td>\n",
       "      <td>0.0</td>\n",
       "      <td>...</td>\n",
       "      <td>0.0</td>\n",
       "      <td>0.0</td>\n",
       "      <td>0.0</td>\n",
       "      <td>0.0</td>\n",
       "      <td>0.0</td>\n",
       "      <td>1.0</td>\n",
       "      <td>0.0</td>\n",
       "      <td>0.0</td>\n",
       "      <td>0.0</td>\n",
       "      <td>1</td>\n",
       "    </tr>\n",
       "  </tbody>\n",
       "</table>\n",
       "<p>103 rows × 28 columns</p>\n",
       "</div>"
      ],
      "text/plain": [
       "     Accel  TopSpeed  Range  Efficiency  FastCharge  Seats  PriceEuro  \\\n",
       "0      4.6     233.0  450.0       161.0       940.0    5.0    55480.0   \n",
       "1     10.0     160.0  270.0       167.0       250.0    5.0    30000.0   \n",
       "2      4.7     210.0  400.0       181.0       620.0    5.0    56440.0   \n",
       "3      6.8     180.0  360.0       206.0       560.0    5.0    68040.0   \n",
       "4      9.5     145.0  170.0       168.0       190.0    4.0    32997.0   \n",
       "..     ...       ...    ...         ...         ...    ...        ...   \n",
       "98     7.5     160.0  330.0       191.0       440.0    5.0    45000.0   \n",
       "99     4.5     210.0  335.0       258.0       540.0    5.0    96050.0   \n",
       "100    5.9     200.0  325.0       194.0       440.0    5.0    50000.0   \n",
       "101    5.1     200.0  375.0       232.0       450.0    5.0    65000.0   \n",
       "102    7.5     190.0  400.0       238.0       480.0    5.0    62000.0   \n",
       "\n",
       "     PowerTrain_All Wheel Drive  PowerTrain_Front Wheel Drive  \\\n",
       "0                           1.0                           0.0   \n",
       "1                           0.0                           0.0   \n",
       "2                           1.0                           0.0   \n",
       "3                           0.0                           0.0   \n",
       "4                           0.0                           0.0   \n",
       "..                          ...                           ...   \n",
       "98                          0.0                           1.0   \n",
       "99                          1.0                           0.0   \n",
       "100                         1.0                           0.0   \n",
       "101                         1.0                           0.0   \n",
       "102                         1.0                           0.0   \n",
       "\n",
       "     PowerTrain_Rear Wheel Drive  ...  BodyStyle_Station  Segment_A  \\\n",
       "0                            0.0  ...                0.0        0.0   \n",
       "1                            1.0  ...                0.0        0.0   \n",
       "2                            0.0  ...                0.0        0.0   \n",
       "3                            1.0  ...                0.0        0.0   \n",
       "4                            1.0  ...                0.0        0.0   \n",
       "..                           ...  ...                ...        ...   \n",
       "98                           0.0  ...                0.0        0.0   \n",
       "99                           0.0  ...                0.0        0.0   \n",
       "100                          0.0  ...                0.0        0.0   \n",
       "101                          0.0  ...                0.0        0.0   \n",
       "102                          0.0  ...                0.0        0.0   \n",
       "\n",
       "     Segment_B  Segment_C  Segment_D  Segment_E  Segment_F  Segment_N  \\\n",
       "0          0.0        0.0        1.0        0.0        0.0        0.0   \n",
       "1          0.0        1.0        0.0        0.0        0.0        0.0   \n",
       "2          0.0        0.0        1.0        0.0        0.0        0.0   \n",
       "3          0.0        0.0        1.0        0.0        0.0        0.0   \n",
       "4          1.0        0.0        0.0        0.0        0.0        0.0   \n",
       "..         ...        ...        ...        ...        ...        ...   \n",
       "98         0.0        1.0        0.0        0.0        0.0        0.0   \n",
       "99         0.0        0.0        0.0        1.0        0.0        0.0   \n",
       "100        0.0        1.0        0.0        0.0        0.0        0.0   \n",
       "101        0.0        1.0        0.0        0.0        0.0        0.0   \n",
       "102        0.0        0.0        0.0        1.0        0.0        0.0   \n",
       "\n",
       "     Segment_S  Clusters  \n",
       "0          0.0         4  \n",
       "1          0.0         2  \n",
       "2          0.0         4  \n",
       "3          0.0         1  \n",
       "4          0.0         3  \n",
       "..         ...       ...  \n",
       "98         0.0         2  \n",
       "99         0.0         1  \n",
       "100        0.0         2  \n",
       "101        0.0         2  \n",
       "102        0.0         1  \n",
       "\n",
       "[103 rows x 28 columns]"
      ]
     },
     "execution_count": 47,
     "metadata": {},
     "output_type": "execute_result"
    }
   ],
   "source": [
    "data_with_clusters = df_prev.copy()\n",
    "data_with_clusters['Clusters'] = identified_clusters \n",
    "data_with_clusters"
   ]
  },
  {
   "cell_type": "code",
   "execution_count": 48,
   "metadata": {
    "execution": {
     "iopub.execute_input": "2022-08-01T15:37:55.003090Z",
     "iopub.status.busy": "2022-08-01T15:37:55.002664Z",
     "iopub.status.idle": "2022-08-01T15:37:55.012271Z",
     "shell.execute_reply": "2022-08-01T15:37:55.011196Z",
     "shell.execute_reply.started": "2022-08-01T15:37:55.003052Z"
    }
   },
   "outputs": [
    {
     "data": {
      "text/plain": [
       "1    29\n",
       "0    25\n",
       "2    18\n",
       "4    16\n",
       "3    15\n",
       "Name: Clusters, dtype: int64"
      ]
     },
     "execution_count": 48,
     "metadata": {},
     "output_type": "execute_result"
    }
   ],
   "source": [
    "data_with_clusters['Clusters'].value_counts()"
   ]
  },
  {
   "cell_type": "code",
   "execution_count": 49,
   "metadata": {
    "execution": {
     "iopub.execute_input": "2022-08-01T15:40:27.469425Z",
     "iopub.status.busy": "2022-08-01T15:40:27.468981Z",
     "iopub.status.idle": "2022-08-01T15:40:27.480991Z",
     "shell.execute_reply": "2022-08-01T15:40:27.479680Z",
     "shell.execute_reply.started": "2022-08-01T15:40:27.469390Z"
    }
   },
   "outputs": [],
   "source": [
    "Segment_wise_mean=data_with_clusters[['Accel','TopSpeed','Range','Efficiency','FastCharge','PriceEuro','Clusters','Seats']].groupby('Clusters').mean()"
   ]
  },
  {
   "cell_type": "code",
   "execution_count": 50,
   "metadata": {
    "execution": {
     "iopub.execute_input": "2022-08-01T15:40:37.934346Z",
     "iopub.status.busy": "2022-08-01T15:40:37.933914Z",
     "iopub.status.idle": "2022-08-01T15:40:37.950446Z",
     "shell.execute_reply": "2022-08-01T15:40:37.949333Z",
     "shell.execute_reply.started": "2022-08-01T15:40:37.934310Z"
    }
   },
   "outputs": [
    {
     "data": {
      "text/html": [
       "<div>\n",
       "<style scoped>\n",
       "    .dataframe tbody tr th:only-of-type {\n",
       "        vertical-align: middle;\n",
       "    }\n",
       "\n",
       "    .dataframe tbody tr th {\n",
       "        vertical-align: top;\n",
       "    }\n",
       "\n",
       "    .dataframe thead th {\n",
       "        text-align: right;\n",
       "    }\n",
       "</style>\n",
       "<table border=\"1\" class=\"dataframe\">\n",
       "  <thead>\n",
       "    <tr style=\"text-align: right;\">\n",
       "      <th></th>\n",
       "      <th>Accel</th>\n",
       "      <th>TopSpeed</th>\n",
       "      <th>Range</th>\n",
       "      <th>Efficiency</th>\n",
       "      <th>FastCharge</th>\n",
       "      <th>PriceEuro</th>\n",
       "      <th>Seats</th>\n",
       "    </tr>\n",
       "    <tr>\n",
       "      <th>Clusters</th>\n",
       "      <th></th>\n",
       "      <th></th>\n",
       "      <th></th>\n",
       "      <th></th>\n",
       "      <th></th>\n",
       "      <th></th>\n",
       "      <th></th>\n",
       "    </tr>\n",
       "  </thead>\n",
       "  <tbody>\n",
       "    <tr>\n",
       "      <th>0</th>\n",
       "      <td>9.656000</td>\n",
       "      <td>149.520000</td>\n",
       "      <td>277.000000</td>\n",
       "      <td>178.880000</td>\n",
       "      <td>304.182400</td>\n",
       "      <td>36945.040000</td>\n",
       "      <td>5.120000</td>\n",
       "    </tr>\n",
       "    <tr>\n",
       "      <th>1</th>\n",
       "      <td>5.644828</td>\n",
       "      <td>195.448276</td>\n",
       "      <td>393.965517</td>\n",
       "      <td>217.482759</td>\n",
       "      <td>534.137931</td>\n",
       "      <td>65418.965517</td>\n",
       "      <td>5.379310</td>\n",
       "    </tr>\n",
       "    <tr>\n",
       "      <th>2</th>\n",
       "      <td>8.011111</td>\n",
       "      <td>164.222222</td>\n",
       "      <td>325.000000</td>\n",
       "      <td>179.777778</td>\n",
       "      <td>396.666667</td>\n",
       "      <td>40049.555556</td>\n",
       "      <td>5.000000</td>\n",
       "    </tr>\n",
       "    <tr>\n",
       "      <th>3</th>\n",
       "      <td>9.866667</td>\n",
       "      <td>142.333333</td>\n",
       "      <td>207.333333</td>\n",
       "      <td>168.200000</td>\n",
       "      <td>327.216000</td>\n",
       "      <td>30655.600000</td>\n",
       "      <td>3.733333</td>\n",
       "    </tr>\n",
       "    <tr>\n",
       "      <th>4</th>\n",
       "      <td>4.031250</td>\n",
       "      <td>247.500000</td>\n",
       "      <td>474.062500</td>\n",
       "      <td>184.125000</td>\n",
       "      <td>736.875000</td>\n",
       "      <td>109193.062500</td>\n",
       "      <td>4.562500</td>\n",
       "    </tr>\n",
       "  </tbody>\n",
       "</table>\n",
       "</div>"
      ],
      "text/plain": [
       "             Accel    TopSpeed       Range  Efficiency  FastCharge  \\\n",
       "Clusters                                                             \n",
       "0         9.656000  149.520000  277.000000  178.880000  304.182400   \n",
       "1         5.644828  195.448276  393.965517  217.482759  534.137931   \n",
       "2         8.011111  164.222222  325.000000  179.777778  396.666667   \n",
       "3         9.866667  142.333333  207.333333  168.200000  327.216000   \n",
       "4         4.031250  247.500000  474.062500  184.125000  736.875000   \n",
       "\n",
       "              PriceEuro     Seats  \n",
       "Clusters                           \n",
       "0          36945.040000  5.120000  \n",
       "1          65418.965517  5.379310  \n",
       "2          40049.555556  5.000000  \n",
       "3          30655.600000  3.733333  \n",
       "4         109193.062500  4.562500  "
      ]
     },
     "execution_count": 50,
     "metadata": {},
     "output_type": "execute_result"
    }
   ],
   "source": [
    "Segment_wise_mean"
   ]
  },
  {
   "cell_type": "code",
   "execution_count": 51,
   "metadata": {
    "execution": {
     "iopub.execute_input": "2022-08-01T15:41:01.237113Z",
     "iopub.status.busy": "2022-08-01T15:41:01.236702Z",
     "iopub.status.idle": "2022-08-01T15:41:01.261357Z",
     "shell.execute_reply": "2022-08-01T15:41:01.260384Z",
     "shell.execute_reply.started": "2022-08-01T15:41:01.237079Z"
    }
   },
   "outputs": [
    {
     "data": {
      "text/html": [
       "<div>\n",
       "<style scoped>\n",
       "    .dataframe tbody tr th:only-of-type {\n",
       "        vertical-align: middle;\n",
       "    }\n",
       "\n",
       "    .dataframe tbody tr th {\n",
       "        vertical-align: top;\n",
       "    }\n",
       "\n",
       "    .dataframe thead th {\n",
       "        text-align: right;\n",
       "    }\n",
       "</style>\n",
       "<table border=\"1\" class=\"dataframe\">\n",
       "  <thead>\n",
       "    <tr style=\"text-align: right;\">\n",
       "      <th></th>\n",
       "      <th>Accel</th>\n",
       "      <th>TopSpeed</th>\n",
       "      <th>Range</th>\n",
       "      <th>Efficiency</th>\n",
       "      <th>FastCharge</th>\n",
       "      <th>PriceEuro</th>\n",
       "      <th>Seats</th>\n",
       "    </tr>\n",
       "    <tr>\n",
       "      <th>Clusters</th>\n",
       "      <th></th>\n",
       "      <th></th>\n",
       "      <th></th>\n",
       "      <th></th>\n",
       "      <th></th>\n",
       "      <th></th>\n",
       "      <th></th>\n",
       "    </tr>\n",
       "  </thead>\n",
       "  <tbody>\n",
       "    <tr>\n",
       "      <th>0</th>\n",
       "      <td>7.3</td>\n",
       "      <td>123.0</td>\n",
       "      <td>160.0</td>\n",
       "      <td>154.0</td>\n",
       "      <td>190.0</td>\n",
       "      <td>29146.0</td>\n",
       "      <td>4.0</td>\n",
       "    </tr>\n",
       "    <tr>\n",
       "      <th>1</th>\n",
       "      <td>2.8</td>\n",
       "      <td>160.0</td>\n",
       "      <td>280.0</td>\n",
       "      <td>171.0</td>\n",
       "      <td>340.0</td>\n",
       "      <td>45000.0</td>\n",
       "      <td>5.0</td>\n",
       "    </tr>\n",
       "    <tr>\n",
       "      <th>2</th>\n",
       "      <td>5.1</td>\n",
       "      <td>140.0</td>\n",
       "      <td>190.0</td>\n",
       "      <td>153.0</td>\n",
       "      <td>210.0</td>\n",
       "      <td>25500.0</td>\n",
       "      <td>5.0</td>\n",
       "    </tr>\n",
       "    <tr>\n",
       "      <th>3</th>\n",
       "      <td>6.5</td>\n",
       "      <td>130.0</td>\n",
       "      <td>95.0</td>\n",
       "      <td>156.0</td>\n",
       "      <td>170.0</td>\n",
       "      <td>20129.0</td>\n",
       "      <td>2.0</td>\n",
       "    </tr>\n",
       "    <tr>\n",
       "      <th>4</th>\n",
       "      <td>2.1</td>\n",
       "      <td>150.0</td>\n",
       "      <td>310.0</td>\n",
       "      <td>104.0</td>\n",
       "      <td>540.0</td>\n",
       "      <td>46380.0</td>\n",
       "      <td>4.0</td>\n",
       "    </tr>\n",
       "  </tbody>\n",
       "</table>\n",
       "</div>"
      ],
      "text/plain": [
       "          Accel  TopSpeed  Range  Efficiency  FastCharge  PriceEuro  Seats\n",
       "Clusters                                                                  \n",
       "0           7.3     123.0  160.0       154.0       190.0    29146.0    4.0\n",
       "1           2.8     160.0  280.0       171.0       340.0    45000.0    5.0\n",
       "2           5.1     140.0  190.0       153.0       210.0    25500.0    5.0\n",
       "3           6.5     130.0   95.0       156.0       170.0    20129.0    2.0\n",
       "4           2.1     150.0  310.0       104.0       540.0    46380.0    4.0"
      ]
     },
     "execution_count": 51,
     "metadata": {},
     "output_type": "execute_result"
    }
   ],
   "source": [
    "data_with_clusters[['Accel','TopSpeed','Range','Efficiency','FastCharge','PriceEuro','Clusters','Seats']].groupby('Clusters').min()"
   ]
  },
  {
   "cell_type": "code",
   "execution_count": 52,
   "metadata": {
    "execution": {
     "iopub.execute_input": "2022-08-01T15:41:12.925934Z",
     "iopub.status.busy": "2022-08-01T15:41:12.925520Z",
     "iopub.status.idle": "2022-08-01T15:41:12.948180Z",
     "shell.execute_reply": "2022-08-01T15:41:12.947042Z",
     "shell.execute_reply.started": "2022-08-01T15:41:12.925895Z"
    }
   },
   "outputs": [
    {
     "data": {
      "text/html": [
       "<div>\n",
       "<style scoped>\n",
       "    .dataframe tbody tr th:only-of-type {\n",
       "        vertical-align: middle;\n",
       "    }\n",
       "\n",
       "    .dataframe tbody tr th {\n",
       "        vertical-align: top;\n",
       "    }\n",
       "\n",
       "    .dataframe thead th {\n",
       "        text-align: right;\n",
       "    }\n",
       "</style>\n",
       "<table border=\"1\" class=\"dataframe\">\n",
       "  <thead>\n",
       "    <tr style=\"text-align: right;\">\n",
       "      <th></th>\n",
       "      <th>Accel</th>\n",
       "      <th>TopSpeed</th>\n",
       "      <th>Range</th>\n",
       "      <th>Efficiency</th>\n",
       "      <th>FastCharge</th>\n",
       "      <th>PriceEuro</th>\n",
       "      <th>Seats</th>\n",
       "    </tr>\n",
       "    <tr>\n",
       "      <th>Clusters</th>\n",
       "      <th></th>\n",
       "      <th></th>\n",
       "      <th></th>\n",
       "      <th></th>\n",
       "      <th></th>\n",
       "      <th></th>\n",
       "      <th></th>\n",
       "    </tr>\n",
       "  </thead>\n",
       "  <tbody>\n",
       "    <tr>\n",
       "      <th>0</th>\n",
       "      <td>22.4</td>\n",
       "      <td>167.0</td>\n",
       "      <td>400.0</td>\n",
       "      <td>273.0</td>\n",
       "      <td>434.56</td>\n",
       "      <td>70631.0</td>\n",
       "      <td>7.0</td>\n",
       "    </tr>\n",
       "    <tr>\n",
       "      <th>1</th>\n",
       "      <td>7.5</td>\n",
       "      <td>250.0</td>\n",
       "      <td>750.0</td>\n",
       "      <td>270.0</td>\n",
       "      <td>930.00</td>\n",
       "      <td>102990.0</td>\n",
       "      <td>7.0</td>\n",
       "    </tr>\n",
       "    <tr>\n",
       "      <th>2</th>\n",
       "      <td>10.0</td>\n",
       "      <td>200.0</td>\n",
       "      <td>440.0</td>\n",
       "      <td>232.0</td>\n",
       "      <td>560.00</td>\n",
       "      <td>65000.0</td>\n",
       "      <td>5.0</td>\n",
       "    </tr>\n",
       "    <tr>\n",
       "      <th>3</th>\n",
       "      <td>12.7</td>\n",
       "      <td>160.0</td>\n",
       "      <td>440.0</td>\n",
       "      <td>181.0</td>\n",
       "      <td>590.00</td>\n",
       "      <td>45000.0</td>\n",
       "      <td>4.0</td>\n",
       "    </tr>\n",
       "    <tr>\n",
       "      <th>4</th>\n",
       "      <td>10.0</td>\n",
       "      <td>410.0</td>\n",
       "      <td>970.0</td>\n",
       "      <td>223.0</td>\n",
       "      <td>940.00</td>\n",
       "      <td>215000.0</td>\n",
       "      <td>5.0</td>\n",
       "    </tr>\n",
       "  </tbody>\n",
       "</table>\n",
       "</div>"
      ],
      "text/plain": [
       "          Accel  TopSpeed  Range  Efficiency  FastCharge  PriceEuro  Seats\n",
       "Clusters                                                                  \n",
       "0          22.4     167.0  400.0       273.0      434.56    70631.0    7.0\n",
       "1           7.5     250.0  750.0       270.0      930.00   102990.0    7.0\n",
       "2          10.0     200.0  440.0       232.0      560.00    65000.0    5.0\n",
       "3          12.7     160.0  440.0       181.0      590.00    45000.0    4.0\n",
       "4          10.0     410.0  970.0       223.0      940.00   215000.0    5.0"
      ]
     },
     "execution_count": 52,
     "metadata": {},
     "output_type": "execute_result"
    }
   ],
   "source": [
    "data_with_clusters[['Accel','TopSpeed','Range','Efficiency','FastCharge','PriceEuro','Clusters','Seats']].groupby('Clusters').max()"
   ]
  },
  {
   "cell_type": "code",
   "execution_count": 53,
   "metadata": {
    "execution": {
     "iopub.execute_input": "2022-08-01T15:42:50.474726Z",
     "iopub.status.busy": "2022-08-01T15:42:50.474282Z",
     "iopub.status.idle": "2022-08-01T15:42:50.486506Z",
     "shell.execute_reply": "2022-08-01T15:42:50.485331Z",
     "shell.execute_reply.started": "2022-08-01T15:42:50.474691Z"
    }
   },
   "outputs": [],
   "source": [
    "Segment_wise_sum=data_with_clusters.drop(columns=['Accel','TopSpeed','Range','Efficiency','FastCharge','PriceEuro'],axis=1).groupby('Clusters').sum()"
   ]
  },
  {
   "cell_type": "code",
   "execution_count": 54,
   "metadata": {
    "execution": {
     "iopub.execute_input": "2022-08-01T15:42:59.413814Z",
     "iopub.status.busy": "2022-08-01T15:42:59.413389Z",
     "iopub.status.idle": "2022-08-01T15:42:59.449501Z",
     "shell.execute_reply": "2022-08-01T15:42:59.448179Z",
     "shell.execute_reply.started": "2022-08-01T15:42:59.413777Z"
    }
   },
   "outputs": [
    {
     "data": {
      "text/html": [
       "<div>\n",
       "<style scoped>\n",
       "    .dataframe tbody tr th:only-of-type {\n",
       "        vertical-align: middle;\n",
       "    }\n",
       "\n",
       "    .dataframe tbody tr th {\n",
       "        vertical-align: top;\n",
       "    }\n",
       "\n",
       "    .dataframe thead th {\n",
       "        text-align: right;\n",
       "    }\n",
       "</style>\n",
       "<table border=\"1\" class=\"dataframe\">\n",
       "  <thead>\n",
       "    <tr style=\"text-align: right;\">\n",
       "      <th></th>\n",
       "      <th>Seats</th>\n",
       "      <th>PowerTrain_All Wheel Drive</th>\n",
       "      <th>PowerTrain_Front Wheel Drive</th>\n",
       "      <th>PowerTrain_Rear Wheel Drive</th>\n",
       "      <th>BodyStyle_Cabrio</th>\n",
       "      <th>BodyStyle_Hatchback</th>\n",
       "      <th>BodyStyle_Liftback</th>\n",
       "      <th>BodyStyle_MPV</th>\n",
       "      <th>BodyStyle_Pickup</th>\n",
       "      <th>BodyStyle_SPV</th>\n",
       "      <th>...</th>\n",
       "      <th>BodyStyle_Sedan</th>\n",
       "      <th>BodyStyle_Station</th>\n",
       "      <th>Segment_A</th>\n",
       "      <th>Segment_B</th>\n",
       "      <th>Segment_C</th>\n",
       "      <th>Segment_D</th>\n",
       "      <th>Segment_E</th>\n",
       "      <th>Segment_F</th>\n",
       "      <th>Segment_N</th>\n",
       "      <th>Segment_S</th>\n",
       "    </tr>\n",
       "    <tr>\n",
       "      <th>Clusters</th>\n",
       "      <th></th>\n",
       "      <th></th>\n",
       "      <th></th>\n",
       "      <th></th>\n",
       "      <th></th>\n",
       "      <th></th>\n",
       "      <th></th>\n",
       "      <th></th>\n",
       "      <th></th>\n",
       "      <th></th>\n",
       "      <th></th>\n",
       "      <th></th>\n",
       "      <th></th>\n",
       "      <th></th>\n",
       "      <th></th>\n",
       "      <th></th>\n",
       "      <th></th>\n",
       "      <th></th>\n",
       "      <th></th>\n",
       "      <th></th>\n",
       "      <th></th>\n",
       "    </tr>\n",
       "  </thead>\n",
       "  <tbody>\n",
       "    <tr>\n",
       "      <th>0</th>\n",
       "      <td>128.0</td>\n",
       "      <td>0.0</td>\n",
       "      <td>25.0</td>\n",
       "      <td>0.0</td>\n",
       "      <td>1.0</td>\n",
       "      <td>5.0</td>\n",
       "      <td>0.0</td>\n",
       "      <td>1.0</td>\n",
       "      <td>0.0</td>\n",
       "      <td>3.0</td>\n",
       "      <td>...</td>\n",
       "      <td>0.0</td>\n",
       "      <td>0.0</td>\n",
       "      <td>0.0</td>\n",
       "      <td>16.0</td>\n",
       "      <td>6.0</td>\n",
       "      <td>0.0</td>\n",
       "      <td>0.0</td>\n",
       "      <td>0.0</td>\n",
       "      <td>3.0</td>\n",
       "      <td>0.0</td>\n",
       "    </tr>\n",
       "    <tr>\n",
       "      <th>1</th>\n",
       "      <td>156.0</td>\n",
       "      <td>24.0</td>\n",
       "      <td>0.0</td>\n",
       "      <td>5.0</td>\n",
       "      <td>0.0</td>\n",
       "      <td>0.0</td>\n",
       "      <td>0.0</td>\n",
       "      <td>0.0</td>\n",
       "      <td>3.0</td>\n",
       "      <td>0.0</td>\n",
       "      <td>...</td>\n",
       "      <td>0.0</td>\n",
       "      <td>0.0</td>\n",
       "      <td>0.0</td>\n",
       "      <td>0.0</td>\n",
       "      <td>4.0</td>\n",
       "      <td>10.0</td>\n",
       "      <td>10.0</td>\n",
       "      <td>2.0</td>\n",
       "      <td>3.0</td>\n",
       "      <td>0.0</td>\n",
       "    </tr>\n",
       "    <tr>\n",
       "      <th>2</th>\n",
       "      <td>90.0</td>\n",
       "      <td>3.0</td>\n",
       "      <td>7.0</td>\n",
       "      <td>8.0</td>\n",
       "      <td>0.0</td>\n",
       "      <td>13.0</td>\n",
       "      <td>1.0</td>\n",
       "      <td>0.0</td>\n",
       "      <td>0.0</td>\n",
       "      <td>0.0</td>\n",
       "      <td>...</td>\n",
       "      <td>0.0</td>\n",
       "      <td>0.0</td>\n",
       "      <td>0.0</td>\n",
       "      <td>0.0</td>\n",
       "      <td>18.0</td>\n",
       "      <td>0.0</td>\n",
       "      <td>0.0</td>\n",
       "      <td>0.0</td>\n",
       "      <td>0.0</td>\n",
       "      <td>0.0</td>\n",
       "    </tr>\n",
       "    <tr>\n",
       "      <th>3</th>\n",
       "      <td>56.0</td>\n",
       "      <td>0.0</td>\n",
       "      <td>5.0</td>\n",
       "      <td>10.0</td>\n",
       "      <td>1.0</td>\n",
       "      <td>14.0</td>\n",
       "      <td>0.0</td>\n",
       "      <td>0.0</td>\n",
       "      <td>0.0</td>\n",
       "      <td>0.0</td>\n",
       "      <td>...</td>\n",
       "      <td>0.0</td>\n",
       "      <td>0.0</td>\n",
       "      <td>7.0</td>\n",
       "      <td>6.0</td>\n",
       "      <td>2.0</td>\n",
       "      <td>0.0</td>\n",
       "      <td>0.0</td>\n",
       "      <td>0.0</td>\n",
       "      <td>0.0</td>\n",
       "      <td>0.0</td>\n",
       "    </tr>\n",
       "    <tr>\n",
       "      <th>4</th>\n",
       "      <td>73.0</td>\n",
       "      <td>14.0</td>\n",
       "      <td>0.0</td>\n",
       "      <td>2.0</td>\n",
       "      <td>1.0</td>\n",
       "      <td>0.0</td>\n",
       "      <td>4.0</td>\n",
       "      <td>0.0</td>\n",
       "      <td>0.0</td>\n",
       "      <td>0.0</td>\n",
       "      <td>...</td>\n",
       "      <td>10.0</td>\n",
       "      <td>1.0</td>\n",
       "      <td>0.0</td>\n",
       "      <td>0.0</td>\n",
       "      <td>0.0</td>\n",
       "      <td>5.0</td>\n",
       "      <td>0.0</td>\n",
       "      <td>10.0</td>\n",
       "      <td>0.0</td>\n",
       "      <td>1.0</td>\n",
       "    </tr>\n",
       "  </tbody>\n",
       "</table>\n",
       "<p>5 rows × 21 columns</p>\n",
       "</div>"
      ],
      "text/plain": [
       "          Seats  PowerTrain_All Wheel Drive  PowerTrain_Front Wheel Drive  \\\n",
       "Clusters                                                                    \n",
       "0         128.0                         0.0                          25.0   \n",
       "1         156.0                        24.0                           0.0   \n",
       "2          90.0                         3.0                           7.0   \n",
       "3          56.0                         0.0                           5.0   \n",
       "4          73.0                        14.0                           0.0   \n",
       "\n",
       "          PowerTrain_Rear Wheel Drive  BodyStyle_Cabrio  BodyStyle_Hatchback  \\\n",
       "Clusters                                                                       \n",
       "0                                 0.0               1.0                  5.0   \n",
       "1                                 5.0               0.0                  0.0   \n",
       "2                                 8.0               0.0                 13.0   \n",
       "3                                10.0               1.0                 14.0   \n",
       "4                                 2.0               1.0                  0.0   \n",
       "\n",
       "          BodyStyle_Liftback  BodyStyle_MPV  BodyStyle_Pickup  BodyStyle_SPV  \\\n",
       "Clusters                                                                       \n",
       "0                        0.0            1.0               0.0            3.0   \n",
       "1                        0.0            0.0               3.0            0.0   \n",
       "2                        1.0            0.0               0.0            0.0   \n",
       "3                        0.0            0.0               0.0            0.0   \n",
       "4                        4.0            0.0               0.0            0.0   \n",
       "\n",
       "          ...  BodyStyle_Sedan  BodyStyle_Station  Segment_A  Segment_B  \\\n",
       "Clusters  ...                                                             \n",
       "0         ...              0.0                0.0        0.0       16.0   \n",
       "1         ...              0.0                0.0        0.0        0.0   \n",
       "2         ...              0.0                0.0        0.0        0.0   \n",
       "3         ...              0.0                0.0        7.0        6.0   \n",
       "4         ...             10.0                1.0        0.0        0.0   \n",
       "\n",
       "          Segment_C  Segment_D  Segment_E  Segment_F  Segment_N  Segment_S  \n",
       "Clusters                                                                    \n",
       "0               6.0        0.0        0.0        0.0        3.0        0.0  \n",
       "1               4.0       10.0       10.0        2.0        3.0        0.0  \n",
       "2              18.0        0.0        0.0        0.0        0.0        0.0  \n",
       "3               2.0        0.0        0.0        0.0        0.0        0.0  \n",
       "4               0.0        5.0        0.0       10.0        0.0        1.0  \n",
       "\n",
       "[5 rows x 21 columns]"
      ]
     },
     "execution_count": 54,
     "metadata": {},
     "output_type": "execute_result"
    }
   ],
   "source": [
    "Segment_wise_sum"
   ]
  }
 ],
 "metadata": {
  "kernelspec": {
   "display_name": "Python 3 (ipykernel)",
   "language": "python",
   "name": "python3"
  },
  "language_info": {
   "codemirror_mode": {
    "name": "ipython",
    "version": 3
   },
   "file_extension": ".py",
   "mimetype": "text/x-python",
   "name": "python",
   "nbconvert_exporter": "python",
   "pygments_lexer": "ipython3",
   "version": "3.9.12"
  }
 },
 "nbformat": 4,
 "nbformat_minor": 4
}
